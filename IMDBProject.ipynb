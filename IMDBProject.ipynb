{
 "cells": [
  {
   "cell_type": "markdown",
   "id": "6cc0174c-4cc6-415a-b253-f1f550ccfe0e",
   "metadata": {},
   "source": [
    "## IMDB Movie Data Analysis"
   ]
  },
  {
   "cell_type": "markdown",
   "id": "cfa14e9c-fb40-4492-855c-cbac9320c155",
   "metadata": {},
   "source": [
    "This project involves exploratory data analysis of IMDB movie ratings using python. The dataset contains information about 1000 \n",
    "popular movies from 2006 to 2016, including features like title, director, genre, rating, runtime, revenue and votes.\n",
    "\n",
    "The goal is to uncover insights into movie trends, viewer preferences and genre performance based on ratings, revenue and other key metrics."
   ]
  },
  {
   "cell_type": "markdown",
   "id": "74348a5f-55fd-40f2-90f2-a716f9f76db7",
   "metadata": {},
   "source": [
    "### Importing Libraries"
   ]
  },
  {
   "cell_type": "code",
   "execution_count": 3,
   "id": "320398c7-d8cc-4958-a45e-9c46111bdacc",
   "metadata": {},
   "outputs": [],
   "source": [
    "import numpy as np\n",
    "import pandas as pd\n",
    "import matplotlib.pyplot as plt\n",
    "import seaborn as sns\n",
    "\n",
    "import warnings\n",
    "warnings.filterwarnings('ignore')"
   ]
  },
  {
   "cell_type": "markdown",
   "id": "d3379ba3-35e5-490b-a167-42aee8138d76",
   "metadata": {},
   "source": [
    "### Importing the dataset"
   ]
  },
  {
   "cell_type": "code",
   "execution_count": 4,
   "id": "cbd831a2-bca7-4b7f-bb4f-80d563c91f86",
   "metadata": {},
   "outputs": [],
   "source": [
    "imdb_data=pd.read_csv('C:\\\\Users\\\\ACER\\\\Downloads\\\\IMDB-Movie-Data.csv')"
   ]
  },
  {
   "cell_type": "markdown",
   "id": "6353254c-4e96-4a39-9456-17ee71b56d94",
   "metadata": {},
   "source": [
    "### Basic Data Exploration"
   ]
  },
  {
   "cell_type": "markdown",
   "id": "4ca471bf-658f-403c-b06f-4bba75624f83",
   "metadata": {},
   "source": [
    "#### Displaying First Few Records of Dataset"
   ]
  },
  {
   "cell_type": "code",
   "execution_count": 5,
   "id": "04e2e7c5-4dbd-408a-b633-5e5304f44c04",
   "metadata": {},
   "outputs": [
    {
     "data": {
      "text/html": [
       "<div>\n",
       "<style scoped>\n",
       "    .dataframe tbody tr th:only-of-type {\n",
       "        vertical-align: middle;\n",
       "    }\n",
       "\n",
       "    .dataframe tbody tr th {\n",
       "        vertical-align: top;\n",
       "    }\n",
       "\n",
       "    .dataframe thead th {\n",
       "        text-align: right;\n",
       "    }\n",
       "</style>\n",
       "<table border=\"1\" class=\"dataframe\">\n",
       "  <thead>\n",
       "    <tr style=\"text-align: right;\">\n",
       "      <th></th>\n",
       "      <th>Rank</th>\n",
       "      <th>Title</th>\n",
       "      <th>Genre</th>\n",
       "      <th>Description</th>\n",
       "      <th>Director</th>\n",
       "      <th>Actors</th>\n",
       "      <th>Year</th>\n",
       "      <th>Runtime (Minutes)</th>\n",
       "      <th>Rating</th>\n",
       "      <th>Votes</th>\n",
       "      <th>Revenue (Millions)</th>\n",
       "      <th>Metascore</th>\n",
       "    </tr>\n",
       "  </thead>\n",
       "  <tbody>\n",
       "    <tr>\n",
       "      <th>0</th>\n",
       "      <td>1</td>\n",
       "      <td>Guardians of the Galaxy</td>\n",
       "      <td>Action,Adventure,Sci-Fi</td>\n",
       "      <td>A group of intergalactic criminals are forced ...</td>\n",
       "      <td>James Gunn</td>\n",
       "      <td>Chris Pratt, Vin Diesel, Bradley Cooper, Zoe S...</td>\n",
       "      <td>2014</td>\n",
       "      <td>121</td>\n",
       "      <td>8.1</td>\n",
       "      <td>757074</td>\n",
       "      <td>333.13</td>\n",
       "      <td>76.0</td>\n",
       "    </tr>\n",
       "    <tr>\n",
       "      <th>1</th>\n",
       "      <td>2</td>\n",
       "      <td>Prometheus</td>\n",
       "      <td>Adventure,Mystery,Sci-Fi</td>\n",
       "      <td>Following clues to the origin of mankind, a te...</td>\n",
       "      <td>Ridley Scott</td>\n",
       "      <td>Noomi Rapace, Logan Marshall-Green, Michael Fa...</td>\n",
       "      <td>2012</td>\n",
       "      <td>124</td>\n",
       "      <td>7.0</td>\n",
       "      <td>485820</td>\n",
       "      <td>126.46</td>\n",
       "      <td>65.0</td>\n",
       "    </tr>\n",
       "    <tr>\n",
       "      <th>2</th>\n",
       "      <td>3</td>\n",
       "      <td>Split</td>\n",
       "      <td>Horror,Thriller</td>\n",
       "      <td>Three girls are kidnapped by a man with a diag...</td>\n",
       "      <td>M. Night Shyamalan</td>\n",
       "      <td>James McAvoy, Anya Taylor-Joy, Haley Lu Richar...</td>\n",
       "      <td>2016</td>\n",
       "      <td>117</td>\n",
       "      <td>7.3</td>\n",
       "      <td>157606</td>\n",
       "      <td>138.12</td>\n",
       "      <td>62.0</td>\n",
       "    </tr>\n",
       "    <tr>\n",
       "      <th>3</th>\n",
       "      <td>4</td>\n",
       "      <td>Sing</td>\n",
       "      <td>Animation,Comedy,Family</td>\n",
       "      <td>In a city of humanoid animals, a hustling thea...</td>\n",
       "      <td>Christophe Lourdelet</td>\n",
       "      <td>Matthew McConaughey,Reese Witherspoon, Seth Ma...</td>\n",
       "      <td>2016</td>\n",
       "      <td>108</td>\n",
       "      <td>7.2</td>\n",
       "      <td>60545</td>\n",
       "      <td>270.32</td>\n",
       "      <td>59.0</td>\n",
       "    </tr>\n",
       "    <tr>\n",
       "      <th>4</th>\n",
       "      <td>5</td>\n",
       "      <td>Suicide Squad</td>\n",
       "      <td>Action,Adventure,Fantasy</td>\n",
       "      <td>A secret government agency recruits some of th...</td>\n",
       "      <td>David Ayer</td>\n",
       "      <td>Will Smith, Jared Leto, Margot Robbie, Viola D...</td>\n",
       "      <td>2016</td>\n",
       "      <td>123</td>\n",
       "      <td>6.2</td>\n",
       "      <td>393727</td>\n",
       "      <td>325.02</td>\n",
       "      <td>40.0</td>\n",
       "    </tr>\n",
       "    <tr>\n",
       "      <th>5</th>\n",
       "      <td>6</td>\n",
       "      <td>The Great Wall</td>\n",
       "      <td>Action,Adventure,Fantasy</td>\n",
       "      <td>European mercenaries searching for black powde...</td>\n",
       "      <td>Yimou Zhang</td>\n",
       "      <td>Matt Damon, Tian Jing, Willem Dafoe, Andy Lau</td>\n",
       "      <td>2016</td>\n",
       "      <td>103</td>\n",
       "      <td>6.1</td>\n",
       "      <td>56036</td>\n",
       "      <td>45.13</td>\n",
       "      <td>42.0</td>\n",
       "    </tr>\n",
       "    <tr>\n",
       "      <th>6</th>\n",
       "      <td>7</td>\n",
       "      <td>La La Land</td>\n",
       "      <td>Comedy,Drama,Music</td>\n",
       "      <td>A jazz pianist falls for an aspiring actress i...</td>\n",
       "      <td>Damien Chazelle</td>\n",
       "      <td>Ryan Gosling, Emma Stone, Rosemarie DeWitt, J....</td>\n",
       "      <td>2016</td>\n",
       "      <td>128</td>\n",
       "      <td>8.3</td>\n",
       "      <td>258682</td>\n",
       "      <td>151.06</td>\n",
       "      <td>93.0</td>\n",
       "    </tr>\n",
       "    <tr>\n",
       "      <th>7</th>\n",
       "      <td>8</td>\n",
       "      <td>Mindhorn</td>\n",
       "      <td>Comedy</td>\n",
       "      <td>A has-been actor best known for playing the ti...</td>\n",
       "      <td>Sean Foley</td>\n",
       "      <td>Essie Davis, Andrea Riseborough, Julian Barrat...</td>\n",
       "      <td>2016</td>\n",
       "      <td>89</td>\n",
       "      <td>6.4</td>\n",
       "      <td>2490</td>\n",
       "      <td>NaN</td>\n",
       "      <td>71.0</td>\n",
       "    </tr>\n",
       "    <tr>\n",
       "      <th>8</th>\n",
       "      <td>9</td>\n",
       "      <td>The Lost City of Z</td>\n",
       "      <td>Action,Adventure,Biography</td>\n",
       "      <td>A true-life drama, centering on British explor...</td>\n",
       "      <td>James Gray</td>\n",
       "      <td>Charlie Hunnam, Robert Pattinson, Sienna Mille...</td>\n",
       "      <td>2016</td>\n",
       "      <td>141</td>\n",
       "      <td>7.1</td>\n",
       "      <td>7188</td>\n",
       "      <td>8.01</td>\n",
       "      <td>78.0</td>\n",
       "    </tr>\n",
       "    <tr>\n",
       "      <th>9</th>\n",
       "      <td>10</td>\n",
       "      <td>Passengers</td>\n",
       "      <td>Adventure,Drama,Romance</td>\n",
       "      <td>A spacecraft traveling to a distant colony pla...</td>\n",
       "      <td>Morten Tyldum</td>\n",
       "      <td>Jennifer Lawrence, Chris Pratt, Michael Sheen,...</td>\n",
       "      <td>2016</td>\n",
       "      <td>116</td>\n",
       "      <td>7.0</td>\n",
       "      <td>192177</td>\n",
       "      <td>100.01</td>\n",
       "      <td>41.0</td>\n",
       "    </tr>\n",
       "  </tbody>\n",
       "</table>\n",
       "</div>"
      ],
      "text/plain": [
       "   Rank                    Title                       Genre  \\\n",
       "0     1  Guardians of the Galaxy     Action,Adventure,Sci-Fi   \n",
       "1     2               Prometheus    Adventure,Mystery,Sci-Fi   \n",
       "2     3                    Split             Horror,Thriller   \n",
       "3     4                     Sing     Animation,Comedy,Family   \n",
       "4     5            Suicide Squad    Action,Adventure,Fantasy   \n",
       "5     6           The Great Wall    Action,Adventure,Fantasy   \n",
       "6     7               La La Land          Comedy,Drama,Music   \n",
       "7     8                 Mindhorn                      Comedy   \n",
       "8     9       The Lost City of Z  Action,Adventure,Biography   \n",
       "9    10               Passengers     Adventure,Drama,Romance   \n",
       "\n",
       "                                         Description              Director  \\\n",
       "0  A group of intergalactic criminals are forced ...            James Gunn   \n",
       "1  Following clues to the origin of mankind, a te...          Ridley Scott   \n",
       "2  Three girls are kidnapped by a man with a diag...    M. Night Shyamalan   \n",
       "3  In a city of humanoid animals, a hustling thea...  Christophe Lourdelet   \n",
       "4  A secret government agency recruits some of th...            David Ayer   \n",
       "5  European mercenaries searching for black powde...           Yimou Zhang   \n",
       "6  A jazz pianist falls for an aspiring actress i...       Damien Chazelle   \n",
       "7  A has-been actor best known for playing the ti...            Sean Foley   \n",
       "8  A true-life drama, centering on British explor...            James Gray   \n",
       "9  A spacecraft traveling to a distant colony pla...         Morten Tyldum   \n",
       "\n",
       "                                              Actors  Year  Runtime (Minutes)  \\\n",
       "0  Chris Pratt, Vin Diesel, Bradley Cooper, Zoe S...  2014                121   \n",
       "1  Noomi Rapace, Logan Marshall-Green, Michael Fa...  2012                124   \n",
       "2  James McAvoy, Anya Taylor-Joy, Haley Lu Richar...  2016                117   \n",
       "3  Matthew McConaughey,Reese Witherspoon, Seth Ma...  2016                108   \n",
       "4  Will Smith, Jared Leto, Margot Robbie, Viola D...  2016                123   \n",
       "5      Matt Damon, Tian Jing, Willem Dafoe, Andy Lau  2016                103   \n",
       "6  Ryan Gosling, Emma Stone, Rosemarie DeWitt, J....  2016                128   \n",
       "7  Essie Davis, Andrea Riseborough, Julian Barrat...  2016                 89   \n",
       "8  Charlie Hunnam, Robert Pattinson, Sienna Mille...  2016                141   \n",
       "9  Jennifer Lawrence, Chris Pratt, Michael Sheen,...  2016                116   \n",
       "\n",
       "   Rating   Votes  Revenue (Millions)  Metascore  \n",
       "0     8.1  757074              333.13       76.0  \n",
       "1     7.0  485820              126.46       65.0  \n",
       "2     7.3  157606              138.12       62.0  \n",
       "3     7.2   60545              270.32       59.0  \n",
       "4     6.2  393727              325.02       40.0  \n",
       "5     6.1   56036               45.13       42.0  \n",
       "6     8.3  258682              151.06       93.0  \n",
       "7     6.4    2490                 NaN       71.0  \n",
       "8     7.1    7188                8.01       78.0  \n",
       "9     7.0  192177              100.01       41.0  "
      ]
     },
     "execution_count": 5,
     "metadata": {},
     "output_type": "execute_result"
    }
   ],
   "source": [
    "imdb_data.head(10)"
   ]
  },
  {
   "cell_type": "markdown",
   "id": "ee5bb92b-341b-47be-92bf-068cfa12f271",
   "metadata": {},
   "source": [
    "#### Displaying Last Few Records of Dataset"
   ]
  },
  {
   "cell_type": "code",
   "execution_count": 6,
   "id": "785b5207-c0c4-4e49-a9ef-435ae46cded8",
   "metadata": {},
   "outputs": [
    {
     "data": {
      "text/html": [
       "<div>\n",
       "<style scoped>\n",
       "    .dataframe tbody tr th:only-of-type {\n",
       "        vertical-align: middle;\n",
       "    }\n",
       "\n",
       "    .dataframe tbody tr th {\n",
       "        vertical-align: top;\n",
       "    }\n",
       "\n",
       "    .dataframe thead th {\n",
       "        text-align: right;\n",
       "    }\n",
       "</style>\n",
       "<table border=\"1\" class=\"dataframe\">\n",
       "  <thead>\n",
       "    <tr style=\"text-align: right;\">\n",
       "      <th></th>\n",
       "      <th>Rank</th>\n",
       "      <th>Title</th>\n",
       "      <th>Genre</th>\n",
       "      <th>Description</th>\n",
       "      <th>Director</th>\n",
       "      <th>Actors</th>\n",
       "      <th>Year</th>\n",
       "      <th>Runtime (Minutes)</th>\n",
       "      <th>Rating</th>\n",
       "      <th>Votes</th>\n",
       "      <th>Revenue (Millions)</th>\n",
       "      <th>Metascore</th>\n",
       "    </tr>\n",
       "  </thead>\n",
       "  <tbody>\n",
       "    <tr>\n",
       "      <th>990</th>\n",
       "      <td>991</td>\n",
       "      <td>Underworld: Rise of the Lycans</td>\n",
       "      <td>Action,Adventure,Fantasy</td>\n",
       "      <td>An origins story centered on the centuries-old...</td>\n",
       "      <td>Patrick Tatopoulos</td>\n",
       "      <td>Rhona Mitra, Michael Sheen, Bill Nighy, Steven...</td>\n",
       "      <td>2009</td>\n",
       "      <td>92</td>\n",
       "      <td>6.6</td>\n",
       "      <td>129708</td>\n",
       "      <td>45.80</td>\n",
       "      <td>44.0</td>\n",
       "    </tr>\n",
       "    <tr>\n",
       "      <th>991</th>\n",
       "      <td>992</td>\n",
       "      <td>Taare Zameen Par</td>\n",
       "      <td>Drama,Family,Music</td>\n",
       "      <td>An eight-year-old boy is thought to be a lazy ...</td>\n",
       "      <td>Aamir Khan</td>\n",
       "      <td>Darsheel Safary, Aamir Khan, Tanay Chheda, Sac...</td>\n",
       "      <td>2007</td>\n",
       "      <td>165</td>\n",
       "      <td>8.5</td>\n",
       "      <td>102697</td>\n",
       "      <td>1.20</td>\n",
       "      <td>42.0</td>\n",
       "    </tr>\n",
       "    <tr>\n",
       "      <th>992</th>\n",
       "      <td>993</td>\n",
       "      <td>Take Me Home Tonight</td>\n",
       "      <td>Comedy,Drama,Romance</td>\n",
       "      <td>Four years after graduation, an awkward high s...</td>\n",
       "      <td>Michael Dowse</td>\n",
       "      <td>Topher Grace, Anna Faris, Dan Fogler, Teresa P...</td>\n",
       "      <td>2011</td>\n",
       "      <td>97</td>\n",
       "      <td>6.3</td>\n",
       "      <td>45419</td>\n",
       "      <td>6.92</td>\n",
       "      <td>NaN</td>\n",
       "    </tr>\n",
       "    <tr>\n",
       "      <th>993</th>\n",
       "      <td>994</td>\n",
       "      <td>Resident Evil: Afterlife</td>\n",
       "      <td>Action,Adventure,Horror</td>\n",
       "      <td>While still out to destroy the evil Umbrella C...</td>\n",
       "      <td>Paul W.S. Anderson</td>\n",
       "      <td>Milla Jovovich, Ali Larter, Wentworth Miller,K...</td>\n",
       "      <td>2010</td>\n",
       "      <td>97</td>\n",
       "      <td>5.9</td>\n",
       "      <td>140900</td>\n",
       "      <td>60.13</td>\n",
       "      <td>37.0</td>\n",
       "    </tr>\n",
       "    <tr>\n",
       "      <th>994</th>\n",
       "      <td>995</td>\n",
       "      <td>Project X</td>\n",
       "      <td>Comedy</td>\n",
       "      <td>3 high school seniors throw a birthday party t...</td>\n",
       "      <td>Nima Nourizadeh</td>\n",
       "      <td>Thomas Mann, Oliver Cooper, Jonathan Daniel Br...</td>\n",
       "      <td>2012</td>\n",
       "      <td>88</td>\n",
       "      <td>6.7</td>\n",
       "      <td>164088</td>\n",
       "      <td>54.72</td>\n",
       "      <td>48.0</td>\n",
       "    </tr>\n",
       "    <tr>\n",
       "      <th>995</th>\n",
       "      <td>996</td>\n",
       "      <td>Secret in Their Eyes</td>\n",
       "      <td>Crime,Drama,Mystery</td>\n",
       "      <td>A tight-knit team of rising investigators, alo...</td>\n",
       "      <td>Billy Ray</td>\n",
       "      <td>Chiwetel Ejiofor, Nicole Kidman, Julia Roberts...</td>\n",
       "      <td>2015</td>\n",
       "      <td>111</td>\n",
       "      <td>6.2</td>\n",
       "      <td>27585</td>\n",
       "      <td>NaN</td>\n",
       "      <td>45.0</td>\n",
       "    </tr>\n",
       "    <tr>\n",
       "      <th>996</th>\n",
       "      <td>997</td>\n",
       "      <td>Hostel: Part II</td>\n",
       "      <td>Horror</td>\n",
       "      <td>Three American college students studying abroa...</td>\n",
       "      <td>Eli Roth</td>\n",
       "      <td>Lauren German, Heather Matarazzo, Bijou Philli...</td>\n",
       "      <td>2007</td>\n",
       "      <td>94</td>\n",
       "      <td>5.5</td>\n",
       "      <td>73152</td>\n",
       "      <td>17.54</td>\n",
       "      <td>46.0</td>\n",
       "    </tr>\n",
       "    <tr>\n",
       "      <th>997</th>\n",
       "      <td>998</td>\n",
       "      <td>Step Up 2: The Streets</td>\n",
       "      <td>Drama,Music,Romance</td>\n",
       "      <td>Romantic sparks occur between two dance studen...</td>\n",
       "      <td>Jon M. Chu</td>\n",
       "      <td>Robert Hoffman, Briana Evigan, Cassie Ventura,...</td>\n",
       "      <td>2008</td>\n",
       "      <td>98</td>\n",
       "      <td>6.2</td>\n",
       "      <td>70699</td>\n",
       "      <td>58.01</td>\n",
       "      <td>50.0</td>\n",
       "    </tr>\n",
       "    <tr>\n",
       "      <th>998</th>\n",
       "      <td>999</td>\n",
       "      <td>Search Party</td>\n",
       "      <td>Adventure,Comedy</td>\n",
       "      <td>A pair of friends embark on a mission to reuni...</td>\n",
       "      <td>Scot Armstrong</td>\n",
       "      <td>Adam Pally, T.J. Miller, Thomas Middleditch,Sh...</td>\n",
       "      <td>2014</td>\n",
       "      <td>93</td>\n",
       "      <td>5.6</td>\n",
       "      <td>4881</td>\n",
       "      <td>NaN</td>\n",
       "      <td>22.0</td>\n",
       "    </tr>\n",
       "    <tr>\n",
       "      <th>999</th>\n",
       "      <td>1000</td>\n",
       "      <td>Nine Lives</td>\n",
       "      <td>Comedy,Family,Fantasy</td>\n",
       "      <td>A stuffy businessman finds himself trapped ins...</td>\n",
       "      <td>Barry Sonnenfeld</td>\n",
       "      <td>Kevin Spacey, Jennifer Garner, Robbie Amell,Ch...</td>\n",
       "      <td>2016</td>\n",
       "      <td>87</td>\n",
       "      <td>5.3</td>\n",
       "      <td>12435</td>\n",
       "      <td>19.64</td>\n",
       "      <td>11.0</td>\n",
       "    </tr>\n",
       "  </tbody>\n",
       "</table>\n",
       "</div>"
      ],
      "text/plain": [
       "     Rank                           Title                     Genre  \\\n",
       "990   991  Underworld: Rise of the Lycans  Action,Adventure,Fantasy   \n",
       "991   992                Taare Zameen Par        Drama,Family,Music   \n",
       "992   993            Take Me Home Tonight      Comedy,Drama,Romance   \n",
       "993   994        Resident Evil: Afterlife   Action,Adventure,Horror   \n",
       "994   995                       Project X                    Comedy   \n",
       "995   996            Secret in Their Eyes       Crime,Drama,Mystery   \n",
       "996   997                 Hostel: Part II                    Horror   \n",
       "997   998          Step Up 2: The Streets       Drama,Music,Romance   \n",
       "998   999                    Search Party          Adventure,Comedy   \n",
       "999  1000                      Nine Lives     Comedy,Family,Fantasy   \n",
       "\n",
       "                                           Description            Director  \\\n",
       "990  An origins story centered on the centuries-old...  Patrick Tatopoulos   \n",
       "991  An eight-year-old boy is thought to be a lazy ...          Aamir Khan   \n",
       "992  Four years after graduation, an awkward high s...       Michael Dowse   \n",
       "993  While still out to destroy the evil Umbrella C...  Paul W.S. Anderson   \n",
       "994  3 high school seniors throw a birthday party t...     Nima Nourizadeh   \n",
       "995  A tight-knit team of rising investigators, alo...           Billy Ray   \n",
       "996  Three American college students studying abroa...            Eli Roth   \n",
       "997  Romantic sparks occur between two dance studen...          Jon M. Chu   \n",
       "998  A pair of friends embark on a mission to reuni...      Scot Armstrong   \n",
       "999  A stuffy businessman finds himself trapped ins...    Barry Sonnenfeld   \n",
       "\n",
       "                                                Actors  Year  \\\n",
       "990  Rhona Mitra, Michael Sheen, Bill Nighy, Steven...  2009   \n",
       "991  Darsheel Safary, Aamir Khan, Tanay Chheda, Sac...  2007   \n",
       "992  Topher Grace, Anna Faris, Dan Fogler, Teresa P...  2011   \n",
       "993  Milla Jovovich, Ali Larter, Wentworth Miller,K...  2010   \n",
       "994  Thomas Mann, Oliver Cooper, Jonathan Daniel Br...  2012   \n",
       "995  Chiwetel Ejiofor, Nicole Kidman, Julia Roberts...  2015   \n",
       "996  Lauren German, Heather Matarazzo, Bijou Philli...  2007   \n",
       "997  Robert Hoffman, Briana Evigan, Cassie Ventura,...  2008   \n",
       "998  Adam Pally, T.J. Miller, Thomas Middleditch,Sh...  2014   \n",
       "999  Kevin Spacey, Jennifer Garner, Robbie Amell,Ch...  2016   \n",
       "\n",
       "     Runtime (Minutes)  Rating   Votes  Revenue (Millions)  Metascore  \n",
       "990                 92     6.6  129708               45.80       44.0  \n",
       "991                165     8.5  102697                1.20       42.0  \n",
       "992                 97     6.3   45419                6.92        NaN  \n",
       "993                 97     5.9  140900               60.13       37.0  \n",
       "994                 88     6.7  164088               54.72       48.0  \n",
       "995                111     6.2   27585                 NaN       45.0  \n",
       "996                 94     5.5   73152               17.54       46.0  \n",
       "997                 98     6.2   70699               58.01       50.0  \n",
       "998                 93     5.6    4881                 NaN       22.0  \n",
       "999                 87     5.3   12435               19.64       11.0  "
      ]
     },
     "execution_count": 6,
     "metadata": {},
     "output_type": "execute_result"
    }
   ],
   "source": [
    "imdb_data.tail(10)"
   ]
  },
  {
   "cell_type": "markdown",
   "id": "f43f47fd-1ab9-46cb-aa52-84fff0465b88",
   "metadata": {},
   "source": [
    "#### Shape of Dataset"
   ]
  },
  {
   "cell_type": "code",
   "execution_count": 7,
   "id": "5721732e-3669-40dc-8758-7875e4525328",
   "metadata": {},
   "outputs": [
    {
     "data": {
      "text/plain": [
       "(1000, 12)"
      ]
     },
     "execution_count": 7,
     "metadata": {},
     "output_type": "execute_result"
    }
   ],
   "source": [
    "imdb_data.shape"
   ]
  },
  {
   "cell_type": "code",
   "execution_count": 8,
   "id": "73e6c04c-2f02-4491-a6fd-e7a4b96606b3",
   "metadata": {},
   "outputs": [
    {
     "name": "stdout",
     "output_type": "stream",
     "text": [
      "Number of rows: 1000\n",
      "Number of columns: 12\n"
     ]
    }
   ],
   "source": [
    "print('Number of rows:',imdb_data.shape[0])\n",
    "print('Number of columns:',imdb_data.shape[1])"
   ]
  },
  {
   "cell_type": "markdown",
   "id": "7bc73dc5-b8f7-44cc-b886-9ed96070adb5",
   "metadata": {},
   "source": [
    "#### Getting information about our dataset like total number of rows,total number of columns,data type of each column and memory requirement"
   ]
  },
  {
   "cell_type": "code",
   "execution_count": 9,
   "id": "284178cb-fed1-41ba-b664-a63a975d96c3",
   "metadata": {},
   "outputs": [
    {
     "name": "stdout",
     "output_type": "stream",
     "text": [
      "<class 'pandas.core.frame.DataFrame'>\n",
      "RangeIndex: 1000 entries, 0 to 999\n",
      "Data columns (total 12 columns):\n",
      " #   Column              Non-Null Count  Dtype  \n",
      "---  ------              --------------  -----  \n",
      " 0   Rank                1000 non-null   int64  \n",
      " 1   Title               1000 non-null   object \n",
      " 2   Genre               1000 non-null   object \n",
      " 3   Description         1000 non-null   object \n",
      " 4   Director            1000 non-null   object \n",
      " 5   Actors              1000 non-null   object \n",
      " 6   Year                1000 non-null   int64  \n",
      " 7   Runtime (Minutes)   1000 non-null   int64  \n",
      " 8   Rating              1000 non-null   float64\n",
      " 9   Votes               1000 non-null   int64  \n",
      " 10  Revenue (Millions)  872 non-null    float64\n",
      " 11  Metascore           936 non-null    float64\n",
      "dtypes: float64(3), int64(4), object(5)\n",
      "memory usage: 93.9+ KB\n"
     ]
    }
   ],
   "source": [
    "imdb_data.info()"
   ]
  },
  {
   "cell_type": "markdown",
   "id": "7463ce26-0ba3-4c52-a5e4-372f740d4b6a",
   "metadata": {},
   "source": [
    "The columns Revenue (Millions) and Metascore has null values."
   ]
  },
  {
   "cell_type": "markdown",
   "id": "4f72007d-1e04-49f9-a0a2-854ef5a67e08",
   "metadata": {},
   "source": [
    "#### Statistics of Numerical columns"
   ]
  },
  {
   "cell_type": "code",
   "execution_count": 10,
   "id": "f3989aea-50cb-4ace-97c1-561c458958e2",
   "metadata": {},
   "outputs": [
    {
     "data": {
      "text/html": [
       "<div>\n",
       "<style scoped>\n",
       "    .dataframe tbody tr th:only-of-type {\n",
       "        vertical-align: middle;\n",
       "    }\n",
       "\n",
       "    .dataframe tbody tr th {\n",
       "        vertical-align: top;\n",
       "    }\n",
       "\n",
       "    .dataframe thead th {\n",
       "        text-align: right;\n",
       "    }\n",
       "</style>\n",
       "<table border=\"1\" class=\"dataframe\">\n",
       "  <thead>\n",
       "    <tr style=\"text-align: right;\">\n",
       "      <th></th>\n",
       "      <th>Rank</th>\n",
       "      <th>Year</th>\n",
       "      <th>Runtime (Minutes)</th>\n",
       "      <th>Rating</th>\n",
       "      <th>Votes</th>\n",
       "      <th>Revenue (Millions)</th>\n",
       "      <th>Metascore</th>\n",
       "    </tr>\n",
       "  </thead>\n",
       "  <tbody>\n",
       "    <tr>\n",
       "      <th>count</th>\n",
       "      <td>1000.000000</td>\n",
       "      <td>1000.000000</td>\n",
       "      <td>1000.000000</td>\n",
       "      <td>1000.000000</td>\n",
       "      <td>1.000000e+03</td>\n",
       "      <td>872.000000</td>\n",
       "      <td>936.000000</td>\n",
       "    </tr>\n",
       "    <tr>\n",
       "      <th>mean</th>\n",
       "      <td>500.500000</td>\n",
       "      <td>2012.783000</td>\n",
       "      <td>113.172000</td>\n",
       "      <td>6.723200</td>\n",
       "      <td>1.698083e+05</td>\n",
       "      <td>82.956376</td>\n",
       "      <td>58.985043</td>\n",
       "    </tr>\n",
       "    <tr>\n",
       "      <th>std</th>\n",
       "      <td>288.819436</td>\n",
       "      <td>3.205962</td>\n",
       "      <td>18.810908</td>\n",
       "      <td>0.945429</td>\n",
       "      <td>1.887626e+05</td>\n",
       "      <td>103.253540</td>\n",
       "      <td>17.194757</td>\n",
       "    </tr>\n",
       "    <tr>\n",
       "      <th>min</th>\n",
       "      <td>1.000000</td>\n",
       "      <td>2006.000000</td>\n",
       "      <td>66.000000</td>\n",
       "      <td>1.900000</td>\n",
       "      <td>6.100000e+01</td>\n",
       "      <td>0.000000</td>\n",
       "      <td>11.000000</td>\n",
       "    </tr>\n",
       "    <tr>\n",
       "      <th>25%</th>\n",
       "      <td>250.750000</td>\n",
       "      <td>2010.000000</td>\n",
       "      <td>100.000000</td>\n",
       "      <td>6.200000</td>\n",
       "      <td>3.630900e+04</td>\n",
       "      <td>13.270000</td>\n",
       "      <td>47.000000</td>\n",
       "    </tr>\n",
       "    <tr>\n",
       "      <th>50%</th>\n",
       "      <td>500.500000</td>\n",
       "      <td>2014.000000</td>\n",
       "      <td>111.000000</td>\n",
       "      <td>6.800000</td>\n",
       "      <td>1.107990e+05</td>\n",
       "      <td>47.985000</td>\n",
       "      <td>59.500000</td>\n",
       "    </tr>\n",
       "    <tr>\n",
       "      <th>75%</th>\n",
       "      <td>750.250000</td>\n",
       "      <td>2016.000000</td>\n",
       "      <td>123.000000</td>\n",
       "      <td>7.400000</td>\n",
       "      <td>2.399098e+05</td>\n",
       "      <td>113.715000</td>\n",
       "      <td>72.000000</td>\n",
       "    </tr>\n",
       "    <tr>\n",
       "      <th>max</th>\n",
       "      <td>1000.000000</td>\n",
       "      <td>2016.000000</td>\n",
       "      <td>191.000000</td>\n",
       "      <td>9.000000</td>\n",
       "      <td>1.791916e+06</td>\n",
       "      <td>936.630000</td>\n",
       "      <td>100.000000</td>\n",
       "    </tr>\n",
       "  </tbody>\n",
       "</table>\n",
       "</div>"
      ],
      "text/plain": [
       "              Rank         Year  Runtime (Minutes)       Rating         Votes  \\\n",
       "count  1000.000000  1000.000000        1000.000000  1000.000000  1.000000e+03   \n",
       "mean    500.500000  2012.783000         113.172000     6.723200  1.698083e+05   \n",
       "std     288.819436     3.205962          18.810908     0.945429  1.887626e+05   \n",
       "min       1.000000  2006.000000          66.000000     1.900000  6.100000e+01   \n",
       "25%     250.750000  2010.000000         100.000000     6.200000  3.630900e+04   \n",
       "50%     500.500000  2014.000000         111.000000     6.800000  1.107990e+05   \n",
       "75%     750.250000  2016.000000         123.000000     7.400000  2.399098e+05   \n",
       "max    1000.000000  2016.000000         191.000000     9.000000  1.791916e+06   \n",
       "\n",
       "       Revenue (Millions)   Metascore  \n",
       "count          872.000000  936.000000  \n",
       "mean            82.956376   58.985043  \n",
       "std            103.253540   17.194757  \n",
       "min              0.000000   11.000000  \n",
       "25%             13.270000   47.000000  \n",
       "50%             47.985000   59.500000  \n",
       "75%            113.715000   72.000000  \n",
       "max            936.630000  100.000000  "
      ]
     },
     "execution_count": 10,
     "metadata": {},
     "output_type": "execute_result"
    }
   ],
   "source": [
    "imdb_data.describe()"
   ]
  },
  {
   "cell_type": "markdown",
   "id": "621d451f-b585-4059-9172-f2893cd94b30",
   "metadata": {},
   "source": [
    "### Data Cleaning"
   ]
  },
  {
   "cell_type": "markdown",
   "id": "5100ee76-7040-497a-8472-8ad511acb918",
   "metadata": {},
   "source": [
    "#### Checking missing values in dataset "
   ]
  },
  {
   "cell_type": "code",
   "execution_count": 11,
   "id": "8dc3426c-690e-4821-8538-792199d81672",
   "metadata": {},
   "outputs": [
    {
     "name": "stdout",
     "output_type": "stream",
     "text": [
      "Any missing values in datset: True\n"
     ]
    }
   ],
   "source": [
    "print('Any missing values in datset:',imdb_data.isnull().values.any())"
   ]
  },
  {
   "cell_type": "code",
   "execution_count": 12,
   "id": "689fabe8-802b-48c1-812a-346f5f69f4c6",
   "metadata": {},
   "outputs": [
    {
     "name": "stdout",
     "output_type": "stream",
     "text": [
      "Number of missing values in each column\n"
     ]
    },
    {
     "data": {
      "text/plain": [
       "Rank                    0\n",
       "Title                   0\n",
       "Genre                   0\n",
       "Description             0\n",
       "Director                0\n",
       "Actors                  0\n",
       "Year                    0\n",
       "Runtime (Minutes)       0\n",
       "Rating                  0\n",
       "Votes                   0\n",
       "Revenue (Millions)    128\n",
       "Metascore              64\n",
       "dtype: int64"
      ]
     },
     "execution_count": 12,
     "metadata": {},
     "output_type": "execute_result"
    }
   ],
   "source": [
    "print('Number of missing values in each column')\n",
    "imdb_data.isnull().sum()"
   ]
  },
  {
   "cell_type": "code",
   "execution_count": 13,
   "id": "dd5831bb-a845-41e4-ac2c-4134c909f23e",
   "metadata": {},
   "outputs": [
    {
     "name": "stdout",
     "output_type": "stream",
     "text": [
      "% of missing values in each column\n"
     ]
    },
    {
     "data": {
      "text/plain": [
       "Rank                   0.0\n",
       "Title                  0.0\n",
       "Genre                  0.0\n",
       "Description            0.0\n",
       "Director               0.0\n",
       "Actors                 0.0\n",
       "Year                   0.0\n",
       "Runtime (Minutes)      0.0\n",
       "Rating                 0.0\n",
       "Votes                  0.0\n",
       "Revenue (Millions)    12.8\n",
       "Metascore              6.4\n",
       "dtype: float64"
      ]
     },
     "execution_count": 13,
     "metadata": {},
     "output_type": "execute_result"
    }
   ],
   "source": [
    "print('% of missing values in each column')\n",
    "imdb_data.isnull().sum()*100/imdb_data.shape[0]"
   ]
  },
  {
   "cell_type": "code",
   "execution_count": 14,
   "id": "a6d6cd04-938e-4714-8f69-0b9714d0a5ac",
   "metadata": {},
   "outputs": [
    {
     "data": {
      "text/plain": [
       "<Axes: >"
      ]
     },
     "execution_count": 14,
     "metadata": {},
     "output_type": "execute_result"
    },
    {
     "data": {
      "image/png": "[encoded data removed]",
      "text/plain": [
       "<Figure size 640x480 with 2 Axes>"
      ]
     },
     "metadata": {},
     "output_type": "display_data"
    }
   ],
   "source": [
    "\n",
    "sns.heatmap(imdb_data.isnull())"
   ]
  },
  {
   "cell_type": "markdown",
   "id": "ca7bd2cf-fa10-4f5b-a42f-48caca7d5c15",
   "metadata": {},
   "source": [
    "#### Handling all the missing values"
   ]
  },
  {
   "cell_type": "code",
   "execution_count": 15,
   "id": "8262573f-bb07-4ab1-b42e-8dfe5cc3b49a",
   "metadata": {},
   "outputs": [],
   "source": [
    "imdb_data=imdb_data.dropna(axis=0)"
   ]
  },
  {
   "cell_type": "code",
   "execution_count": 16,
   "id": "0211c8e4-8872-4088-ba67-0ccefc05d654",
   "metadata": {},
   "outputs": [
    {
     "data": {
      "text/plain": [
       "Rank                  0\n",
       "Title                 0\n",
       "Genre                 0\n",
       "Description           0\n",
       "Director              0\n",
       "Actors                0\n",
       "Year                  0\n",
       "Runtime (Minutes)     0\n",
       "Rating                0\n",
       "Votes                 0\n",
       "Revenue (Millions)    0\n",
       "Metascore             0\n",
       "dtype: int64"
      ]
     },
     "execution_count": 16,
     "metadata": {},
     "output_type": "execute_result"
    }
   ],
   "source": [
    "imdb_data.isnull().sum()"
   ]
  },
  {
   "cell_type": "code",
   "execution_count": 17,
   "id": "9ee8210b-ad22-4120-b798-a18373de5295",
   "metadata": {},
   "outputs": [
    {
     "name": "stdout",
     "output_type": "stream",
     "text": [
      "New shape of dataset:\n",
      "Number of Records in Dataset: 838\n",
      "Number of Columns in Dataset: 12\n"
     ]
    }
   ],
   "source": [
    "print('New shape of dataset:')\n",
    "print('Number of Records in Dataset:',imdb_data.shape[0])\n",
    "print('Number of Columns in Dataset:',imdb_data.shape[1])"
   ]
  },
  {
   "cell_type": "markdown",
   "id": "6c80a96a-ca0b-44a9-b8d6-45ee7c8a5bda",
   "metadata": {},
   "source": [
    "#### Checking for duplicates"
   ]
  },
  {
   "cell_type": "code",
   "execution_count": 18,
   "id": "c94d5c97-124b-47f9-b66c-1c1be7f389a0",
   "metadata": {},
   "outputs": [
    {
     "data": {
      "text/plain": [
       "0"
      ]
     },
     "execution_count": 18,
     "metadata": {},
     "output_type": "execute_result"
    }
   ],
   "source": [
    "imdb_data.duplicated().sum()"
   ]
  },
  {
   "cell_type": "markdown",
   "id": "06298ab2-a8f2-4e88-b6fd-78176197f4d0",
   "metadata": {},
   "source": [
    "Hence, there are no duplicate values in dataset"
   ]
  },
  {
   "cell_type": "markdown",
   "id": "ad800254-c802-49ac-9edd-dd7502f8ce59",
   "metadata": {},
   "source": [
    "### EDA"
   ]
  },
  {
   "cell_type": "markdown",
   "id": "db949db8-679a-4c14-b8f7-4c33cd590fd4",
   "metadata": {},
   "source": [
    "#### Checking Correlation between numerical columns"
   ]
  },
  {
   "cell_type": "code",
   "execution_count": 19,
   "id": "16a01fcc-7ea4-4af3-9983-e8b220bd48d7",
   "metadata": {},
   "outputs": [
    {
     "data": {
      "text/plain": [
       "<Axes: >"
      ]
     },
     "execution_count": 19,
     "metadata": {},
     "output_type": "execute_result"
    },
    {
     "data": {
      "image/png": "[encoded data removed]",
      "text/plain": [
       "<Figure size 640x480 with 2 Axes>"
      ]
     },
     "metadata": {},
     "output_type": "display_data"
    }
   ],
   "source": [
    "sns.heatmap(imdb_data.corr(numeric_only=True),annot=True,cmap='coolwarm')"
   ]
  },
  {
   "cell_type": "markdown",
   "id": "331800b7-4952-4dca-acbd-23cbdb745890",
   "metadata": {},
   "source": [
    "Rating and Metascore has high positive correlation with each other.\n",
    "\n",
    "Votes and Revenue columns are also highly positive correlated which implies that if the movie got high votes it is likely that movie will generate high revenue.\n",
    "\n",
    "Votes and Rating are highly positive correlated which implies that the high rated movies got high votes."
   ]
  },
  {
   "cell_type": "markdown",
   "id": "f94164ad-ed62-40ab-9725-5183cc7bc91f",
   "metadata": {},
   "source": [
    "#### Display title of movies having runtime >= 180 minutes"
   ]
  },
  {
   "cell_type": "code",
   "execution_count": 20,
   "id": "cde811e2-f081-47a7-aa7a-ce2be74cb57c",
   "metadata": {},
   "outputs": [
    {
     "data": {
      "text/plain": [
       "Index(['Rank', 'Title', 'Genre', 'Description', 'Director', 'Actors', 'Year',\n",
       "       'Runtime (Minutes)', 'Rating', 'Votes', 'Revenue (Millions)',\n",
       "       'Metascore'],\n",
       "      dtype='object')"
      ]
     },
     "execution_count": 20,
     "metadata": {},
     "output_type": "execute_result"
    }
   ],
   "source": [
    "imdb_data.columns"
   ]
  },
  {
   "cell_type": "code",
   "execution_count": 21,
   "id": "0b7d9534-cc13-4005-b401-d2124b8e5e1d",
   "metadata": {},
   "outputs": [
    {
     "data": {
      "text/plain": [
       "82     The Wolf of Wall Street\n",
       "88           The Hateful Eight\n",
       "311             La vie d'Adèle\n",
       "Name: Title, dtype: object"
      ]
     },
     "execution_count": 21,
     "metadata": {},
     "output_type": "execute_result"
    }
   ],
   "source": [
    "imdb_data[imdb_data['Runtime (Minutes)']>=180].Title"
   ]
  },
  {
   "cell_type": "markdown",
   "id": "9563a3a9-1acc-408e-815f-9436af309214",
   "metadata": {},
   "source": [
    "These are the movies having runtime more than 180 minutes"
   ]
  },
  {
   "cell_type": "markdown",
   "id": "9cc7f052-db3a-4cc6-bcd3-26d0fc40ce60",
   "metadata": {},
   "source": [
    "#### In which year there was the highest average voting"
   ]
  },
  {
   "cell_type": "code",
   "execution_count": 22,
   "id": "db7209d8-5d20-42ab-88ca-f74ef6f7f152",
   "metadata": {},
   "outputs": [
    {
     "data": {
      "text/html": [
       "<div>\n",
       "<style scoped>\n",
       "    .dataframe tbody tr th:only-of-type {\n",
       "        vertical-align: middle;\n",
       "    }\n",
       "\n",
       "    .dataframe tbody tr th {\n",
       "        vertical-align: top;\n",
       "    }\n",
       "\n",
       "    .dataframe thead th {\n",
       "        text-align: right;\n",
       "    }\n",
       "</style>\n",
       "<table border=\"1\" class=\"dataframe\">\n",
       "  <thead>\n",
       "    <tr style=\"text-align: right;\">\n",
       "      <th></th>\n",
       "      <th>Year</th>\n",
       "      <th>Votes</th>\n",
       "    </tr>\n",
       "  </thead>\n",
       "  <tbody>\n",
       "    <tr>\n",
       "      <th>6</th>\n",
       "      <td>2012</td>\n",
       "      <td>290861.483871</td>\n",
       "    </tr>\n",
       "    <tr>\n",
       "      <th>0</th>\n",
       "      <td>2006</td>\n",
       "      <td>277232.219512</td>\n",
       "    </tr>\n",
       "    <tr>\n",
       "      <th>3</th>\n",
       "      <td>2009</td>\n",
       "      <td>267180.577778</td>\n",
       "    </tr>\n",
       "    <tr>\n",
       "      <th>2</th>\n",
       "      <td>2008</td>\n",
       "      <td>266580.145833</td>\n",
       "    </tr>\n",
       "    <tr>\n",
       "      <th>1</th>\n",
       "      <td>2007</td>\n",
       "      <td>266530.704545</td>\n",
       "    </tr>\n",
       "    <tr>\n",
       "      <th>4</th>\n",
       "      <td>2010</td>\n",
       "      <td>261082.929825</td>\n",
       "    </tr>\n",
       "    <tr>\n",
       "      <th>5</th>\n",
       "      <td>2011</td>\n",
       "      <td>259254.736842</td>\n",
       "    </tr>\n",
       "    <tr>\n",
       "      <th>7</th>\n",
       "      <td>2013</td>\n",
       "      <td>225531.892857</td>\n",
       "    </tr>\n",
       "    <tr>\n",
       "      <th>8</th>\n",
       "      <td>2014</td>\n",
       "      <td>211926.881720</td>\n",
       "    </tr>\n",
       "    <tr>\n",
       "      <th>9</th>\n",
       "      <td>2015</td>\n",
       "      <td>129512.651376</td>\n",
       "    </tr>\n",
       "    <tr>\n",
       "      <th>10</th>\n",
       "      <td>2016</td>\n",
       "      <td>68437.823232</td>\n",
       "    </tr>\n",
       "  </tbody>\n",
       "</table>\n",
       "</div>"
      ],
      "text/plain": [
       "    Year          Votes\n",
       "6   2012  290861.483871\n",
       "0   2006  277232.219512\n",
       "3   2009  267180.577778\n",
       "2   2008  266580.145833\n",
       "1   2007  266530.704545\n",
       "4   2010  261082.929825\n",
       "5   2011  259254.736842\n",
       "7   2013  225531.892857\n",
       "8   2014  211926.881720\n",
       "9   2015  129512.651376\n",
       "10  2016   68437.823232"
      ]
     },
     "execution_count": 22,
     "metadata": {},
     "output_type": "execute_result"
    }
   ],
   "source": [
    "imdb_data[['Year','Votes']].groupby('Year').mean().reset_index().sort_values(by='Votes',ascending=False)"
   ]
  },
  {
   "cell_type": "code",
   "execution_count": 23,
   "id": "ecaeb3f8-a1db-4d92-a3f4-6b02f218bb51",
   "metadata": {},
   "outputs": [
    {
     "data": {
      "image/png": "[encoded data removed]",
      "text/plain": [
       "<Figure size 640x480 with 1 Axes>"
      ]
     },
     "metadata": {},
     "output_type": "display_data"
    }
   ],
   "source": [
    "sns.barplot(x='Year',y='Votes',data=imdb_data,errorbar=None,palette='husl')\n",
    "plt.title('Avg Votes By Year')\n",
    "plt.show()"
   ]
  },
  {
   "cell_type": "markdown",
   "id": "daad7b39-c249-4bf6-9c67-f29e29b6e210",
   "metadata": {},
   "source": [
    "So, the movies which got released in year 2012 got highest average voting it implies that majority of good movies were released in year 2012."
   ]
  },
  {
   "cell_type": "markdown",
   "id": "0888ee04-2f7e-4831-af90-aff500582f02",
   "metadata": {},
   "source": [
    "#### In which year there was highest average revenue"
   ]
  },
  {
   "cell_type": "code",
   "execution_count": 24,
   "id": "27f5e115-8dbd-4ff5-b0ce-eec5afb3b7bb",
   "metadata": {},
   "outputs": [
    {
     "data": {
      "text/html": [
       "<div>\n",
       "<style scoped>\n",
       "    .dataframe tbody tr th:only-of-type {\n",
       "        vertical-align: middle;\n",
       "    }\n",
       "\n",
       "    .dataframe tbody tr th {\n",
       "        vertical-align: top;\n",
       "    }\n",
       "\n",
       "    .dataframe thead th {\n",
       "        text-align: right;\n",
       "    }\n",
       "</style>\n",
       "<table border=\"1\" class=\"dataframe\">\n",
       "  <thead>\n",
       "    <tr style=\"text-align: right;\">\n",
       "      <th></th>\n",
       "      <th>Year</th>\n",
       "      <th>Revenue (Millions)</th>\n",
       "    </tr>\n",
       "  </thead>\n",
       "  <tbody>\n",
       "    <tr>\n",
       "      <th>3</th>\n",
       "      <td>2009</td>\n",
       "      <td>115.742000</td>\n",
       "    </tr>\n",
       "    <tr>\n",
       "      <th>6</th>\n",
       "      <td>2012</td>\n",
       "      <td>110.103065</td>\n",
       "    </tr>\n",
       "    <tr>\n",
       "      <th>4</th>\n",
       "      <td>2010</td>\n",
       "      <td>105.081579</td>\n",
       "    </tr>\n",
       "    <tr>\n",
       "      <th>2</th>\n",
       "      <td>2008</td>\n",
       "      <td>97.525417</td>\n",
       "    </tr>\n",
       "    <tr>\n",
       "      <th>5</th>\n",
       "      <td>2011</td>\n",
       "      <td>93.703333</td>\n",
       "    </tr>\n",
       "    <tr>\n",
       "      <th>1</th>\n",
       "      <td>2007</td>\n",
       "      <td>93.074091</td>\n",
       "    </tr>\n",
       "    <tr>\n",
       "      <th>7</th>\n",
       "      <td>2013</td>\n",
       "      <td>88.084643</td>\n",
       "    </tr>\n",
       "    <tr>\n",
       "      <th>0</th>\n",
       "      <td>2006</td>\n",
       "      <td>87.255610</td>\n",
       "    </tr>\n",
       "    <tr>\n",
       "      <th>8</th>\n",
       "      <td>2014</td>\n",
       "      <td>85.433656</td>\n",
       "    </tr>\n",
       "    <tr>\n",
       "      <th>9</th>\n",
       "      <td>2015</td>\n",
       "      <td>80.725596</td>\n",
       "    </tr>\n",
       "    <tr>\n",
       "      <th>10</th>\n",
       "      <td>2016</td>\n",
       "      <td>55.566111</td>\n",
       "    </tr>\n",
       "  </tbody>\n",
       "</table>\n",
       "</div>"
      ],
      "text/plain": [
       "    Year  Revenue (Millions)\n",
       "3   2009          115.742000\n",
       "6   2012          110.103065\n",
       "4   2010          105.081579\n",
       "2   2008           97.525417\n",
       "5   2011           93.703333\n",
       "1   2007           93.074091\n",
       "7   2013           88.084643\n",
       "0   2006           87.255610\n",
       "8   2014           85.433656\n",
       "9   2015           80.725596\n",
       "10  2016           55.566111"
      ]
     },
     "execution_count": 24,
     "metadata": {},
     "output_type": "execute_result"
    }
   ],
   "source": [
    "imdb_data[['Year','Revenue (Millions)']].groupby('Year').mean().reset_index().sort_values(by='Revenue (Millions)',ascending=False)"
   ]
  },
  {
   "cell_type": "code",
   "execution_count": 77,
   "id": "cbcd8ec3-7b9e-474f-8bc7-4876558d7a84",
   "metadata": {},
   "outputs": [
    {
     "data": {
      "image/png": "[encoded data removed]",
      "text/plain": [
       "<Figure size 640x480 with 1 Axes>"
      ]
     },
     "metadata": {},
     "output_type": "display_data"
    }
   ],
   "source": [
    "sns.lineplot(x='Year',y='Revenue (Millions)',data=imdb_data,errorbar=None)\n",
    "plt.title('Revenue By Year')\n",
    "plt.grid(True)\n",
    "plt.show()"
   ]
  },
  {
   "cell_type": "markdown",
   "id": "f4444fee-b5e6-4e26-b137-9bb1b385d162",
   "metadata": {},
   "source": [
    "Maximum revenue was generated in year 2009."
   ]
  },
  {
   "cell_type": "markdown",
   "id": "26b3036c-2007-4a0d-b7c1-a23f04448078",
   "metadata": {},
   "source": [
    "#### The Average Rating for Each Director"
   ]
  },
  {
   "cell_type": "code",
   "execution_count": 26,
   "id": "59dc6597-872d-4f09-9061-fbbf43de603f",
   "metadata": {},
   "outputs": [
    {
     "data": {
      "text/html": [
       "<div>\n",
       "<style scoped>\n",
       "    .dataframe tbody tr th:only-of-type {\n",
       "        vertical-align: middle;\n",
       "    }\n",
       "\n",
       "    .dataframe tbody tr th {\n",
       "        vertical-align: top;\n",
       "    }\n",
       "\n",
       "    .dataframe thead th {\n",
       "        text-align: right;\n",
       "    }\n",
       "</style>\n",
       "<table border=\"1\" class=\"dataframe\">\n",
       "  <thead>\n",
       "    <tr style=\"text-align: right;\">\n",
       "      <th></th>\n",
       "      <th>Director</th>\n",
       "      <th>Rating</th>\n",
       "    </tr>\n",
       "  </thead>\n",
       "  <tbody>\n",
       "    <tr>\n",
       "      <th>88</th>\n",
       "      <td>Christopher Nolan</td>\n",
       "      <td>8.68</td>\n",
       "    </tr>\n",
       "    <tr>\n",
       "      <th>378</th>\n",
       "      <td>Olivier Nakache</td>\n",
       "      <td>8.60</td>\n",
       "    </tr>\n",
       "    <tr>\n",
       "      <th>318</th>\n",
       "      <td>Makoto Shinkai</td>\n",
       "      <td>8.60</td>\n",
       "    </tr>\n",
       "    <tr>\n",
       "      <th>154</th>\n",
       "      <td>Florian Henckel von Donnersmarck</td>\n",
       "      <td>8.50</td>\n",
       "    </tr>\n",
       "    <tr>\n",
       "      <th>0</th>\n",
       "      <td>Aamir Khan</td>\n",
       "      <td>8.50</td>\n",
       "    </tr>\n",
       "    <tr>\n",
       "      <th>...</th>\n",
       "      <td>...</td>\n",
       "      <td>...</td>\n",
       "    </tr>\n",
       "    <tr>\n",
       "      <th>442</th>\n",
       "      <td>Sam Taylor-Johnson</td>\n",
       "      <td>4.10</td>\n",
       "    </tr>\n",
       "    <tr>\n",
       "      <th>240</th>\n",
       "      <td>Joey Curtis</td>\n",
       "      <td>4.00</td>\n",
       "    </tr>\n",
       "    <tr>\n",
       "      <th>175</th>\n",
       "      <td>George Nolfi</td>\n",
       "      <td>3.90</td>\n",
       "    </tr>\n",
       "    <tr>\n",
       "      <th>216</th>\n",
       "      <td>James Wong</td>\n",
       "      <td>2.70</td>\n",
       "    </tr>\n",
       "    <tr>\n",
       "      <th>218</th>\n",
       "      <td>Jason Friedberg</td>\n",
       "      <td>1.90</td>\n",
       "    </tr>\n",
       "  </tbody>\n",
       "</table>\n",
       "<p>524 rows × 2 columns</p>\n",
       "</div>"
      ],
      "text/plain": [
       "                             Director  Rating\n",
       "88                  Christopher Nolan    8.68\n",
       "378                   Olivier Nakache    8.60\n",
       "318                    Makoto Shinkai    8.60\n",
       "154  Florian Henckel von Donnersmarck    8.50\n",
       "0                          Aamir Khan    8.50\n",
       "..                                ...     ...\n",
       "442                Sam Taylor-Johnson    4.10\n",
       "240                       Joey Curtis    4.00\n",
       "175                      George Nolfi    3.90\n",
       "216                        James Wong    2.70\n",
       "218                   Jason Friedberg    1.90\n",
       "\n",
       "[524 rows x 2 columns]"
      ]
     },
     "execution_count": 26,
     "metadata": {},
     "output_type": "execute_result"
    }
   ],
   "source": [
    "imdb_data[['Director','Rating']].groupby('Director').mean().reset_index().sort_values(by='Rating',ascending=False)"
   ]
  },
  {
   "cell_type": "markdown",
   "id": "d92d1774-773d-4844-bb66-70d20caf3cad",
   "metadata": {},
   "source": [
    "The director 'Christopher Nolan' got the highest average rating . It implies that he is the best director of that time span."
   ]
  },
  {
   "cell_type": "markdown",
   "id": "c35c7dda-5ffe-4078-8aa2-e249e38c18b7",
   "metadata": {},
   "source": [
    "#### Displaying Top 10 Lengthy Movies Title and Runtime"
   ]
  },
  {
   "cell_type": "code",
   "execution_count": 27,
   "id": "e3f6cfd6-9476-4dac-b95d-3685238472d5",
   "metadata": {},
   "outputs": [
    {
     "data": {
      "text/plain": [
       "Index(['Rank', 'Title', 'Genre', 'Description', 'Director', 'Actors', 'Year',\n",
       "       'Runtime (Minutes)', 'Rating', 'Votes', 'Revenue (Millions)',\n",
       "       'Metascore'],\n",
       "      dtype='object')"
      ]
     },
     "execution_count": 27,
     "metadata": {},
     "output_type": "execute_result"
    }
   ],
   "source": [
    "imdb_data.columns"
   ]
  },
  {
   "cell_type": "code",
   "execution_count": 28,
   "id": "bf887bd8-00ff-4d58-b1f2-dcb613547172",
   "metadata": {},
   "outputs": [],
   "source": [
    "top_10lengthy_movies=imdb_data.nlargest(10,'Runtime (Minutes)')[['Title','Runtime (Minutes)']].set_index('Title')"
   ]
  },
  {
   "cell_type": "code",
   "execution_count": 29,
   "id": "8b5f4146-9f9c-4afe-876f-932a8de42569",
   "metadata": {},
   "outputs": [
    {
     "data": {
      "text/html": [
       "<div>\n",
       "<style scoped>\n",
       "    .dataframe tbody tr th:only-of-type {\n",
       "        vertical-align: middle;\n",
       "    }\n",
       "\n",
       "    .dataframe tbody tr th {\n",
       "        vertical-align: top;\n",
       "    }\n",
       "\n",
       "    .dataframe thead th {\n",
       "        text-align: right;\n",
       "    }\n",
       "</style>\n",
       "<table border=\"1\" class=\"dataframe\">\n",
       "  <thead>\n",
       "    <tr style=\"text-align: right;\">\n",
       "      <th></th>\n",
       "      <th>Runtime (Minutes)</th>\n",
       "    </tr>\n",
       "    <tr>\n",
       "      <th>Title</th>\n",
       "      <th></th>\n",
       "    </tr>\n",
       "  </thead>\n",
       "  <tbody>\n",
       "    <tr>\n",
       "      <th>The Hateful Eight</th>\n",
       "      <td>187</td>\n",
       "    </tr>\n",
       "    <tr>\n",
       "      <th>The Wolf of Wall Street</th>\n",
       "      <td>180</td>\n",
       "    </tr>\n",
       "    <tr>\n",
       "      <th>La vie d'Adèle</th>\n",
       "      <td>180</td>\n",
       "    </tr>\n",
       "    <tr>\n",
       "      <th>Cloud Atlas</th>\n",
       "      <td>172</td>\n",
       "    </tr>\n",
       "    <tr>\n",
       "      <th>3 Idiots</th>\n",
       "      <td>170</td>\n",
       "    </tr>\n",
       "    <tr>\n",
       "      <th>Interstellar</th>\n",
       "      <td>169</td>\n",
       "    </tr>\n",
       "    <tr>\n",
       "      <th>Pirates of the Caribbean: At World's End</th>\n",
       "      <td>169</td>\n",
       "    </tr>\n",
       "    <tr>\n",
       "      <th>The Hobbit: An Unexpected Journey</th>\n",
       "      <td>169</td>\n",
       "    </tr>\n",
       "    <tr>\n",
       "      <th>The Curious Case of Benjamin Button</th>\n",
       "      <td>166</td>\n",
       "    </tr>\n",
       "    <tr>\n",
       "      <th>Transformers: Age of Extinction</th>\n",
       "      <td>165</td>\n",
       "    </tr>\n",
       "  </tbody>\n",
       "</table>\n",
       "</div>"
      ],
      "text/plain": [
       "                                          Runtime (Minutes)\n",
       "Title                                                      \n",
       "The Hateful Eight                                       187\n",
       "The Wolf of Wall Street                                 180\n",
       "La vie d'Adèle                                          180\n",
       "Cloud Atlas                                             172\n",
       "3 Idiots                                                170\n",
       "Interstellar                                            169\n",
       "Pirates of the Caribbean: At World's End                169\n",
       "The Hobbit: An Unexpected Journey                       169\n",
       "The Curious Case of Benjamin Button                     166\n",
       "Transformers: Age of Extinction                         165"
      ]
     },
     "execution_count": 29,
     "metadata": {},
     "output_type": "execute_result"
    }
   ],
   "source": [
    "top_10lengthy_movies"
   ]
  },
  {
   "cell_type": "code",
   "execution_count": 30,
   "id": "a37aa4b5-3df4-4be6-bcb2-60a2e190248e",
   "metadata": {},
   "outputs": [
    {
     "data": {
      "text/plain": [
       "<Axes: xlabel='Runtime (Minutes)', ylabel='Title'>"
      ]
     },
     "execution_count": 30,
     "metadata": {},
     "output_type": "execute_result"
    },
    {
     "data": {
      "image/png": "[encoded data removed]",
      "text/plain": [
       "<Figure size 640x480 with 1 Axes>"
      ]
     },
     "metadata": {},
     "output_type": "display_data"
    }
   ],
   "source": [
    "sns.barplot(x='Runtime (Minutes)',y=top_10lengthy_movies.index,data=top_10lengthy_movies,palette='husl')"
   ]
  },
  {
   "cell_type": "markdown",
   "id": "5c6b871b-6eee-4599-8626-8411e817b357",
   "metadata": {},
   "source": [
    "#### Displaying number of movies per year"
   ]
  },
  {
   "cell_type": "code",
   "execution_count": 31,
   "id": "35113185-bec0-41cc-b160-48ff7a88dbd4",
   "metadata": {},
   "outputs": [
    {
     "data": {
      "text/plain": [
       "Index(['Rank', 'Title', 'Genre', 'Description', 'Director', 'Actors', 'Year',\n",
       "       'Runtime (Minutes)', 'Rating', 'Votes', 'Revenue (Millions)',\n",
       "       'Metascore'],\n",
       "      dtype='object')"
      ]
     },
     "execution_count": 31,
     "metadata": {},
     "output_type": "execute_result"
    }
   ],
   "source": [
    "imdb_data.columns"
   ]
  },
  {
   "cell_type": "code",
   "execution_count": 32,
   "id": "9582871c-2780-439c-9202-9011de089595",
   "metadata": {},
   "outputs": [
    {
     "data": {
      "text/html": [
       "<div>\n",
       "<style scoped>\n",
       "    .dataframe tbody tr th:only-of-type {\n",
       "        vertical-align: middle;\n",
       "    }\n",
       "\n",
       "    .dataframe tbody tr th {\n",
       "        vertical-align: top;\n",
       "    }\n",
       "\n",
       "    .dataframe thead th {\n",
       "        text-align: right;\n",
       "    }\n",
       "</style>\n",
       "<table border=\"1\" class=\"dataframe\">\n",
       "  <thead>\n",
       "    <tr style=\"text-align: right;\">\n",
       "      <th></th>\n",
       "      <th>Title</th>\n",
       "    </tr>\n",
       "    <tr>\n",
       "      <th>Year</th>\n",
       "      <th></th>\n",
       "    </tr>\n",
       "  </thead>\n",
       "  <tbody>\n",
       "    <tr>\n",
       "      <th>2006</th>\n",
       "      <td>41</td>\n",
       "    </tr>\n",
       "    <tr>\n",
       "      <th>2007</th>\n",
       "      <td>44</td>\n",
       "    </tr>\n",
       "    <tr>\n",
       "      <th>2008</th>\n",
       "      <td>48</td>\n",
       "    </tr>\n",
       "    <tr>\n",
       "      <th>2009</th>\n",
       "      <td>45</td>\n",
       "    </tr>\n",
       "    <tr>\n",
       "      <th>2010</th>\n",
       "      <td>57</td>\n",
       "    </tr>\n",
       "    <tr>\n",
       "      <th>2011</th>\n",
       "      <td>57</td>\n",
       "    </tr>\n",
       "    <tr>\n",
       "      <th>2012</th>\n",
       "      <td>62</td>\n",
       "    </tr>\n",
       "    <tr>\n",
       "      <th>2013</th>\n",
       "      <td>84</td>\n",
       "    </tr>\n",
       "    <tr>\n",
       "      <th>2014</th>\n",
       "      <td>93</td>\n",
       "    </tr>\n",
       "    <tr>\n",
       "      <th>2015</th>\n",
       "      <td>109</td>\n",
       "    </tr>\n",
       "    <tr>\n",
       "      <th>2016</th>\n",
       "      <td>198</td>\n",
       "    </tr>\n",
       "  </tbody>\n",
       "</table>\n",
       "</div>"
      ],
      "text/plain": [
       "      Title\n",
       "Year       \n",
       "2006     41\n",
       "2007     44\n",
       "2008     48\n",
       "2009     45\n",
       "2010     57\n",
       "2011     57\n",
       "2012     62\n",
       "2013     84\n",
       "2014     93\n",
       "2015    109\n",
       "2016    198"
      ]
     },
     "execution_count": 32,
     "metadata": {},
     "output_type": "execute_result"
    }
   ],
   "source": [
    "imdb_data[['Title','Year']].groupby('Year').count()"
   ]
  },
  {
   "cell_type": "code",
   "execution_count": 33,
   "id": "ff700f91-cb43-42f3-9cad-fab90bb618b9",
   "metadata": {},
   "outputs": [
    {
     "data": {
      "text/plain": [
       "Year\n",
       "2016    198\n",
       "2015    109\n",
       "2014     93\n",
       "2013     84\n",
       "2012     62\n",
       "2011     57\n",
       "2010     57\n",
       "2008     48\n",
       "2009     45\n",
       "2007     44\n",
       "2006     41\n",
       "Name: count, dtype: int64"
      ]
     },
     "execution_count": 33,
     "metadata": {},
     "output_type": "execute_result"
    }
   ],
   "source": [
    "imdb_data['Year'].value_counts()"
   ]
  },
  {
   "cell_type": "code",
   "execution_count": 34,
   "id": "3f6e3e72-3e1b-4b35-840d-f614d4a726f6",
   "metadata": {},
   "outputs": [
    {
     "data": {
      "text/plain": [
       "Text(0.5, 1.0, 'Number of Movies Per Year')"
      ]
     },
     "execution_count": 34,
     "metadata": {},
     "output_type": "execute_result"
    },
    {
     "data": {
      "image/png": "[encoded data removed]",
      "text/plain": [
       "<Figure size 640x480 with 1 Axes>"
      ]
     },
     "metadata": {},
     "output_type": "display_data"
    }
   ],
   "source": [
    "sns.countplot(x='Year',data=imdb_data,palette='husl')\n",
    "plt.title('Number of Movies Per Year')"
   ]
  },
  {
   "cell_type": "markdown",
   "id": "a27e5f53-6dbe-40eb-b1d5-a5ea3c6c5409",
   "metadata": {},
   "source": [
    "Hence, most of the movies were released in year 2016"
   ]
  },
  {
   "cell_type": "markdown",
   "id": "8fc4b7ff-e3fe-439c-89a5-a7ba82ac071b",
   "metadata": {},
   "source": [
    "#### Finding Most Popular Movie Title (Highest Revenue)"
   ]
  },
  {
   "cell_type": "code",
   "execution_count": 35,
   "id": "bf0e69a1-419e-42ef-a80f-d2e3bdf51b93",
   "metadata": {},
   "outputs": [
    {
     "data": {
      "text/html": [
       "<div>\n",
       "<style scoped>\n",
       "    .dataframe tbody tr th:only-of-type {\n",
       "        vertical-align: middle;\n",
       "    }\n",
       "\n",
       "    .dataframe tbody tr th {\n",
       "        vertical-align: top;\n",
       "    }\n",
       "\n",
       "    .dataframe thead th {\n",
       "        text-align: right;\n",
       "    }\n",
       "</style>\n",
       "<table border=\"1\" class=\"dataframe\">\n",
       "  <thead>\n",
       "    <tr style=\"text-align: right;\">\n",
       "      <th></th>\n",
       "      <th>Title</th>\n",
       "    </tr>\n",
       "  </thead>\n",
       "  <tbody>\n",
       "    <tr>\n",
       "      <th>50</th>\n",
       "      <td>Star Wars: Episode VII - The Force Awakens</td>\n",
       "    </tr>\n",
       "  </tbody>\n",
       "</table>\n",
       "</div>"
      ],
      "text/plain": [
       "                                         Title\n",
       "50  Star Wars: Episode VII - The Force Awakens"
      ]
     },
     "execution_count": 35,
     "metadata": {},
     "output_type": "execute_result"
    }
   ],
   "source": [
    "imdb_data[imdb_data['Revenue (Millions)']==imdb_data['Revenue (Millions)'].max()][['Title']]"
   ]
  },
  {
   "cell_type": "markdown",
   "id": "44e377cb-77e0-4322-9297-093136e45247",
   "metadata": {},
   "source": [
    "Highest Revenue was generated by movie 'Star Wars: Episode VII - The Force Awakens' . Hence, we can say that this is the most watched movie of that time."
   ]
  },
  {
   "cell_type": "markdown",
   "id": "471dad85-c3f6-4ac0-863e-474e10884f4a",
   "metadata": {},
   "source": [
    "#### Movie having lowest revenue"
   ]
  },
  {
   "cell_type": "code",
   "execution_count": 65,
   "id": "b4826fe3-899b-41ba-82ce-0868f3a7998d",
   "metadata": {},
   "outputs": [
    {
     "data": {
      "text/html": [
       "<div>\n",
       "<style scoped>\n",
       "    .dataframe tbody tr th:only-of-type {\n",
       "        vertical-align: middle;\n",
       "    }\n",
       "\n",
       "    .dataframe tbody tr th {\n",
       "        vertical-align: top;\n",
       "    }\n",
       "\n",
       "    .dataframe thead th {\n",
       "        text-align: right;\n",
       "    }\n",
       "</style>\n",
       "<table border=\"1\" class=\"dataframe\">\n",
       "  <thead>\n",
       "    <tr style=\"text-align: right;\">\n",
       "      <th></th>\n",
       "      <th>Title</th>\n",
       "      <th>Revenue (Millions)</th>\n",
       "    </tr>\n",
       "  </thead>\n",
       "  <tbody>\n",
       "    <tr>\n",
       "      <th>231</th>\n",
       "      <td>A Kind of Murder</td>\n",
       "      <td>0.0</td>\n",
       "    </tr>\n",
       "  </tbody>\n",
       "</table>\n",
       "</div>"
      ],
      "text/plain": [
       "                Title  Revenue (Millions)\n",
       "231  A Kind of Murder                 0.0"
      ]
     },
     "execution_count": 65,
     "metadata": {},
     "output_type": "execute_result"
    }
   ],
   "source": [
    "imdb_data[imdb_data['Revenue (Millions)']==imdb_data['Revenue (Millions)'].min()][['Title']]"
   ]
  },
  {
   "cell_type": "markdown",
   "id": "235edd17-3334-44b3-b3f4-5a35a81b6e5d",
   "metadata": {},
   "source": [
    "Movie named 'A Kind of Murder' hasn't generated any revenue it means that this movie is not watched by a single person."
   ]
  },
  {
   "cell_type": "markdown",
   "id": "8079e85f-aa68-46c3-af55-ad8f50baad0f",
   "metadata": {},
   "source": [
    "#### Displaying top 10 highest rated movie titles and its directors"
   ]
  },
  {
   "cell_type": "code",
   "execution_count": 37,
   "id": "2c76e3dd-9b05-41b4-8164-a7738f4c50bd",
   "metadata": {},
   "outputs": [],
   "source": [
    "top10_ratedmovies=imdb_data.nlargest(10,'Rating')[['Title','Rating','Director']].set_index('Title')"
   ]
  },
  {
   "cell_type": "code",
   "execution_count": 38,
   "id": "d79016a4-2da9-4e48-b016-443dacd46039",
   "metadata": {},
   "outputs": [
    {
     "data": {
      "text/html": [
       "<div>\n",
       "<style scoped>\n",
       "    .dataframe tbody tr th:only-of-type {\n",
       "        vertical-align: middle;\n",
       "    }\n",
       "\n",
       "    .dataframe tbody tr th {\n",
       "        vertical-align: top;\n",
       "    }\n",
       "\n",
       "    .dataframe thead th {\n",
       "        text-align: right;\n",
       "    }\n",
       "</style>\n",
       "<table border=\"1\" class=\"dataframe\">\n",
       "  <thead>\n",
       "    <tr style=\"text-align: right;\">\n",
       "      <th></th>\n",
       "      <th>Rating</th>\n",
       "      <th>Director</th>\n",
       "    </tr>\n",
       "    <tr>\n",
       "      <th>Title</th>\n",
       "      <th></th>\n",
       "      <th></th>\n",
       "    </tr>\n",
       "  </thead>\n",
       "  <tbody>\n",
       "    <tr>\n",
       "      <th>The Dark Knight</th>\n",
       "      <td>9.0</td>\n",
       "      <td>Christopher Nolan</td>\n",
       "    </tr>\n",
       "    <tr>\n",
       "      <th>Inception</th>\n",
       "      <td>8.8</td>\n",
       "      <td>Christopher Nolan</td>\n",
       "    </tr>\n",
       "    <tr>\n",
       "      <th>Interstellar</th>\n",
       "      <td>8.6</td>\n",
       "      <td>Christopher Nolan</td>\n",
       "    </tr>\n",
       "    <tr>\n",
       "      <th>Kimi no na wa</th>\n",
       "      <td>8.6</td>\n",
       "      <td>Makoto Shinkai</td>\n",
       "    </tr>\n",
       "    <tr>\n",
       "      <th>The Intouchables</th>\n",
       "      <td>8.6</td>\n",
       "      <td>Olivier Nakache</td>\n",
       "    </tr>\n",
       "    <tr>\n",
       "      <th>The Prestige</th>\n",
       "      <td>8.5</td>\n",
       "      <td>Christopher Nolan</td>\n",
       "    </tr>\n",
       "    <tr>\n",
       "      <th>The Departed</th>\n",
       "      <td>8.5</td>\n",
       "      <td>Martin Scorsese</td>\n",
       "    </tr>\n",
       "    <tr>\n",
       "      <th>The Dark Knight Rises</th>\n",
       "      <td>8.5</td>\n",
       "      <td>Christopher Nolan</td>\n",
       "    </tr>\n",
       "    <tr>\n",
       "      <th>Whiplash</th>\n",
       "      <td>8.5</td>\n",
       "      <td>Damien Chazelle</td>\n",
       "    </tr>\n",
       "    <tr>\n",
       "      <th>The Lives of Others</th>\n",
       "      <td>8.5</td>\n",
       "      <td>Florian Henckel von Donnersmarck</td>\n",
       "    </tr>\n",
       "  </tbody>\n",
       "</table>\n",
       "</div>"
      ],
      "text/plain": [
       "                       Rating                          Director\n",
       "Title                                                          \n",
       "The Dark Knight           9.0                 Christopher Nolan\n",
       "Inception                 8.8                 Christopher Nolan\n",
       "Interstellar              8.6                 Christopher Nolan\n",
       "Kimi no na wa             8.6                    Makoto Shinkai\n",
       "The Intouchables          8.6                   Olivier Nakache\n",
       "The Prestige              8.5                 Christopher Nolan\n",
       "The Departed              8.5                   Martin Scorsese\n",
       "The Dark Knight Rises     8.5                 Christopher Nolan\n",
       "Whiplash                  8.5                   Damien Chazelle\n",
       "The Lives of Others       8.5  Florian Henckel von Donnersmarck"
      ]
     },
     "execution_count": 38,
     "metadata": {},
     "output_type": "execute_result"
    }
   ],
   "source": [
    "top10_ratedmovies"
   ]
  },
  {
   "cell_type": "code",
   "execution_count": 39,
   "id": "edea39ec-10ec-4b00-902f-09cc6efada38",
   "metadata": {},
   "outputs": [
    {
     "data": {
      "image/png": "[encoded data removed]",
      "text/plain": [
       "<Figure size 640x480 with 1 Axes>"
      ]
     },
     "metadata": {},
     "output_type": "display_data"
    }
   ],
   "source": [
    "sns.barplot(x='Rating',y=top10_ratedmovies.index,data=top10_ratedmovies,palette='husl',hue='Director')\n",
    "plt.legend( loc= 'upper right', bbox_to_anchor=(1.75, 1))\n",
    "plt.show()"
   ]
  },
  {
   "cell_type": "markdown",
   "id": "56c76057-c4a5-4670-b748-9604f2e96fb2",
   "metadata": {},
   "source": [
    "Hence, Christopher Nolan was the best director in span of 2006 to 2016 and the best movie of Christopher was 'The Dark Knight'"
   ]
  },
  {
   "cell_type": "markdown",
   "id": "bf3ae17f-4521-4016-a9a3-4f5cebf15b6e",
   "metadata": {},
   "source": [
    "#### Displaying Top 10 Highest Revenue Movie Titles"
   ]
  },
  {
   "cell_type": "code",
   "execution_count": 40,
   "id": "69541466-e67e-49cd-af33-6445d94619fe",
   "metadata": {},
   "outputs": [
    {
     "data": {
      "text/html": [
       "<div>\n",
       "<style scoped>\n",
       "    .dataframe tbody tr th:only-of-type {\n",
       "        vertical-align: middle;\n",
       "    }\n",
       "\n",
       "    .dataframe tbody tr th {\n",
       "        vertical-align: top;\n",
       "    }\n",
       "\n",
       "    .dataframe thead th {\n",
       "        text-align: right;\n",
       "    }\n",
       "</style>\n",
       "<table border=\"1\" class=\"dataframe\">\n",
       "  <thead>\n",
       "    <tr style=\"text-align: right;\">\n",
       "      <th></th>\n",
       "      <th>Revenue (Millions)</th>\n",
       "    </tr>\n",
       "    <tr>\n",
       "      <th>Title</th>\n",
       "      <th></th>\n",
       "    </tr>\n",
       "  </thead>\n",
       "  <tbody>\n",
       "    <tr>\n",
       "      <th>Star Wars: Episode VII - The Force Awakens</th>\n",
       "      <td>936.63</td>\n",
       "    </tr>\n",
       "    <tr>\n",
       "      <th>Avatar</th>\n",
       "      <td>760.51</td>\n",
       "    </tr>\n",
       "    <tr>\n",
       "      <th>Jurassic World</th>\n",
       "      <td>652.18</td>\n",
       "    </tr>\n",
       "    <tr>\n",
       "      <th>The Avengers</th>\n",
       "      <td>623.28</td>\n",
       "    </tr>\n",
       "    <tr>\n",
       "      <th>The Dark Knight</th>\n",
       "      <td>533.32</td>\n",
       "    </tr>\n",
       "    <tr>\n",
       "      <th>Rogue One</th>\n",
       "      <td>532.17</td>\n",
       "    </tr>\n",
       "    <tr>\n",
       "      <th>Finding Dory</th>\n",
       "      <td>486.29</td>\n",
       "    </tr>\n",
       "    <tr>\n",
       "      <th>Avengers: Age of Ultron</th>\n",
       "      <td>458.99</td>\n",
       "    </tr>\n",
       "    <tr>\n",
       "      <th>The Dark Knight Rises</th>\n",
       "      <td>448.13</td>\n",
       "    </tr>\n",
       "    <tr>\n",
       "      <th>The Hunger Games: Catching Fire</th>\n",
       "      <td>424.65</td>\n",
       "    </tr>\n",
       "  </tbody>\n",
       "</table>\n",
       "</div>"
      ],
      "text/plain": [
       "                                            Revenue (Millions)\n",
       "Title                                                         \n",
       "Star Wars: Episode VII - The Force Awakens              936.63\n",
       "Avatar                                                  760.51\n",
       "Jurassic World                                          652.18\n",
       "The Avengers                                            623.28\n",
       "The Dark Knight                                         533.32\n",
       "Rogue One                                               532.17\n",
       "Finding Dory                                            486.29\n",
       "Avengers: Age of Ultron                                 458.99\n",
       "The Dark Knight Rises                                   448.13\n",
       "The Hunger Games: Catching Fire                         424.65"
      ]
     },
     "execution_count": 40,
     "metadata": {},
     "output_type": "execute_result"
    }
   ],
   "source": [
    "top10_revenue=imdb_data.nlargest(10,'Revenue (Millions)')[['Title','Revenue (Millions)']].set_index('Title')\n",
    "top10_revenue"
   ]
  },
  {
   "cell_type": "code",
   "execution_count": 41,
   "id": "e2f1e7ae-3d7f-46a3-964a-451f6c8c8c96",
   "metadata": {},
   "outputs": [
    {
     "data": {
      "image/png": "[encoded data removed]",
      "text/plain": [
       "<Figure size 640x480 with 1 Axes>"
      ]
     },
     "metadata": {},
     "output_type": "display_data"
    }
   ],
   "source": [
    "sns.barplot(x='Revenue (Millions)',y=top10_revenue.index,data=top10_revenue,palette='husl')\n",
    "plt.title('Top 10 Highest Revenue Movie Titles')\n",
    "plt.show()"
   ]
  },
  {
   "cell_type": "markdown",
   "id": "53c21871-1acb-448a-94fc-22576d37464f",
   "metadata": {},
   "source": [
    "#### Finding Average Rating of Movies Year Wise"
   ]
  },
  {
   "cell_type": "code",
   "execution_count": 42,
   "id": "167e6223-e2a7-43bd-80cf-ab5294b353c1",
   "metadata": {},
   "outputs": [
    {
     "data": {
      "text/plain": [
       "Index(['Rank', 'Title', 'Genre', 'Description', 'Director', 'Actors', 'Year',\n",
       "       'Runtime (Minutes)', 'Rating', 'Votes', 'Revenue (Millions)',\n",
       "       'Metascore'],\n",
       "      dtype='object')"
      ]
     },
     "execution_count": 42,
     "metadata": {},
     "output_type": "execute_result"
    }
   ],
   "source": [
    "imdb_data.columns"
   ]
  },
  {
   "cell_type": "code",
   "execution_count": 43,
   "id": "a0b27e77-7fbd-4cfa-9253-7ef46f2a86a3",
   "metadata": {},
   "outputs": [
    {
     "data": {
      "text/html": [
       "<div>\n",
       "<style scoped>\n",
       "    .dataframe tbody tr th:only-of-type {\n",
       "        vertical-align: middle;\n",
       "    }\n",
       "\n",
       "    .dataframe tbody tr th {\n",
       "        vertical-align: top;\n",
       "    }\n",
       "\n",
       "    .dataframe thead th {\n",
       "        text-align: right;\n",
       "    }\n",
       "</style>\n",
       "<table border=\"1\" class=\"dataframe\">\n",
       "  <thead>\n",
       "    <tr style=\"text-align: right;\">\n",
       "      <th></th>\n",
       "      <th>Rating</th>\n",
       "    </tr>\n",
       "    <tr>\n",
       "      <th>Year</th>\n",
       "      <th></th>\n",
       "    </tr>\n",
       "  </thead>\n",
       "  <tbody>\n",
       "    <tr>\n",
       "      <th>2006</th>\n",
       "      <td>7.143902</td>\n",
       "    </tr>\n",
       "    <tr>\n",
       "      <th>2007</th>\n",
       "      <td>7.140909</td>\n",
       "    </tr>\n",
       "    <tr>\n",
       "      <th>2011</th>\n",
       "      <td>6.945614</td>\n",
       "    </tr>\n",
       "    <tr>\n",
       "      <th>2012</th>\n",
       "      <td>6.933871</td>\n",
       "    </tr>\n",
       "    <tr>\n",
       "      <th>2009</th>\n",
       "      <td>6.911111</td>\n",
       "    </tr>\n",
       "    <tr>\n",
       "      <th>2010</th>\n",
       "      <td>6.894737</td>\n",
       "    </tr>\n",
       "    <tr>\n",
       "      <th>2013</th>\n",
       "      <td>6.832143</td>\n",
       "    </tr>\n",
       "    <tr>\n",
       "      <th>2014</th>\n",
       "      <td>6.822581</td>\n",
       "    </tr>\n",
       "    <tr>\n",
       "      <th>2008</th>\n",
       "      <td>6.708333</td>\n",
       "    </tr>\n",
       "    <tr>\n",
       "      <th>2015</th>\n",
       "      <td>6.674312</td>\n",
       "    </tr>\n",
       "    <tr>\n",
       "      <th>2016</th>\n",
       "      <td>6.644444</td>\n",
       "    </tr>\n",
       "  </tbody>\n",
       "</table>\n",
       "</div>"
      ],
      "text/plain": [
       "        Rating\n",
       "Year          \n",
       "2006  7.143902\n",
       "2007  7.140909\n",
       "2011  6.945614\n",
       "2012  6.933871\n",
       "2009  6.911111\n",
       "2010  6.894737\n",
       "2013  6.832143\n",
       "2014  6.822581\n",
       "2008  6.708333\n",
       "2015  6.674312\n",
       "2016  6.644444"
      ]
     },
     "execution_count": 43,
     "metadata": {},
     "output_type": "execute_result"
    }
   ],
   "source": [
    "imdb_data[['Rating','Year']].groupby('Year').mean().sort_values(by='Rating',ascending=False)"
   ]
  },
  {
   "cell_type": "markdown",
   "id": "58e1edad-e806-4dbc-834d-745f5a419a9b",
   "metadata": {},
   "source": [
    "The movies that were released in year 2006 got highest average rating. It means that in year 2006 all the movies released were liked most by the public."
   ]
  },
  {
   "cell_type": "markdown",
   "id": "a6cd1491-1417-4c94-810d-b1075d5f890a",
   "metadata": {},
   "source": [
    "#### Relation Between Rating and Revenue"
   ]
  },
  {
   "cell_type": "code",
   "execution_count": 44,
   "id": "2bafd7fa-e45c-41c9-baa8-7c5bec123841",
   "metadata": {},
   "outputs": [
    {
     "data": {
      "text/plain": [
       "Index(['Rank', 'Title', 'Genre', 'Description', 'Director', 'Actors', 'Year',\n",
       "       'Runtime (Minutes)', 'Rating', 'Votes', 'Revenue (Millions)',\n",
       "       'Metascore'],\n",
       "      dtype='object')"
      ]
     },
     "execution_count": 44,
     "metadata": {},
     "output_type": "execute_result"
    }
   ],
   "source": [
    "imdb_data.columns"
   ]
  },
  {
   "cell_type": "markdown",
   "id": "3485811d-a0ee-445a-be94-d1e15d7dc8f1",
   "metadata": {},
   "source": [
    "##### DIstribution of Rating"
   ]
  },
  {
   "cell_type": "code",
   "execution_count": 45,
   "id": "7a8b7f0b-e1d9-41a4-b7e4-68a818b22c54",
   "metadata": {},
   "outputs": [
    {
     "data": {
      "image/png": "[encoded data removed]",
      "text/plain": [
       "<Figure size 640x480 with 1 Axes>"
      ]
     },
     "metadata": {},
     "output_type": "display_data"
    }
   ],
   "source": [
    "sns.histplot(imdb_data.Rating)\n",
    "plt.ylabel('Count of movies')\n",
    "plt.show()"
   ]
  },
  {
   "cell_type": "markdown",
   "id": "e56a3499-6930-4ad5-b7ea-9f881db0199f",
   "metadata": {},
   "source": [
    "##### We can see that most of the movies have rating between 6-8"
   ]
  },
  {
   "cell_type": "markdown",
   "id": "63765c39-490c-4522-a32f-efdeb9ee2ff9",
   "metadata": {},
   "source": [
    "##### Distribution of Revenue"
   ]
  },
  {
   "cell_type": "code",
   "execution_count": 46,
   "id": "01f88099-7c72-4f71-80d2-1b36fb45d8ab",
   "metadata": {},
   "outputs": [
    {
     "data": {
      "image/png": "[encoded data removed]",
      "text/plain": [
       "<Figure size 640x480 with 1 Axes>"
      ]
     },
     "metadata": {},
     "output_type": "display_data"
    }
   ],
   "source": [
    "sns.histplot(imdb_data[\"Revenue (Millions)\"])\n",
    "plt.ylabel('Count of movies')\n",
    "plt.show()"
   ]
  },
  {
   "cell_type": "markdown",
   "id": "edee00c9-da12-4218-a8a5-a21968d4e1e2",
   "metadata": {},
   "source": [
    "##### Most of the movies have revenue ranging between (0-200) million dollars."
   ]
  },
  {
   "cell_type": "code",
   "execution_count": 47,
   "id": "d7321547-e3a6-4493-a104-bce65513594a",
   "metadata": {},
   "outputs": [
    {
     "data": {
      "text/plain": [
       "<Axes: xlabel='Rating', ylabel='Revenue (Millions)'>"
      ]
     },
     "execution_count": 47,
     "metadata": {},
     "output_type": "execute_result"
    },
    {
     "data": {
      "image/png": "[encoded data removed]",
      "text/plain": [
       "<Figure size 640x480 with 1 Axes>"
      ]
     },
     "metadata": {},
     "output_type": "display_data"
    }
   ],
   "source": [
    "sns.scatterplot(x='Rating',y='Revenue (Millions)',data=imdb_data)"
   ]
  },
  {
   "cell_type": "markdown",
   "id": "601f5710-7e5b-487c-b13f-9e78aa4d73a5",
   "metadata": {},
   "source": [
    "The scatter plot is clustered around 5-8 rating.\n",
    "\n",
    "It is clear that the highest grossing movies (>400 m$) have high rating.\n",
    "\n",
    "But it is not guaranteed that if the movie has high rating then the revenue will also be high . Because there are many movies having high rating but less revenue."
   ]
  },
  {
   "cell_type": "markdown",
   "id": "dec419fb-1205-4ba6-8a83-17261cebe39d",
   "metadata": {},
   "source": [
    "#### Classifying Movies based on Ratings (Excellent,Good and Average)"
   ]
  },
  {
   "cell_type": "code",
   "execution_count": 48,
   "id": "23d6edff-e867-4d6f-a1f3-15ee3be8febf",
   "metadata": {},
   "outputs": [
    {
     "data": {
      "text/plain": [
       "Index(['Rank', 'Title', 'Genre', 'Description', 'Director', 'Actors', 'Year',\n",
       "       'Runtime (Minutes)', 'Rating', 'Votes', 'Revenue (Millions)',\n",
       "       'Metascore'],\n",
       "      dtype='object')"
      ]
     },
     "execution_count": 48,
     "metadata": {},
     "output_type": "execute_result"
    }
   ],
   "source": [
    "imdb_data.columns"
   ]
  },
  {
   "cell_type": "code",
   "execution_count": 49,
   "id": "52118495-194a-474b-b954-ce0502897a33",
   "metadata": {},
   "outputs": [],
   "source": [
    "imdb_data['Rating_cat']=np.where(imdb_data.Rating>=7.0,'Excellent',np.where(imdb_data.Rating>=6.0,\"Good\",\"Average\"))"
   ]
  },
  {
   "cell_type": "code",
   "execution_count": 50,
   "id": "2308e565-9f5d-4ed9-8bdf-b99d61432484",
   "metadata": {},
   "outputs": [
    {
     "data": {
      "text/html": [
       "<div>\n",
       "<style scoped>\n",
       "    .dataframe tbody tr th:only-of-type {\n",
       "        vertical-align: middle;\n",
       "    }\n",
       "\n",
       "    .dataframe tbody tr th {\n",
       "        vertical-align: top;\n",
       "    }\n",
       "\n",
       "    .dataframe thead th {\n",
       "        text-align: right;\n",
       "    }\n",
       "</style>\n",
       "<table border=\"1\" class=\"dataframe\">\n",
       "  <thead>\n",
       "    <tr style=\"text-align: right;\">\n",
       "      <th></th>\n",
       "      <th>Rank</th>\n",
       "      <th>Title</th>\n",
       "      <th>Genre</th>\n",
       "      <th>Description</th>\n",
       "      <th>Director</th>\n",
       "      <th>Actors</th>\n",
       "      <th>Year</th>\n",
       "      <th>Runtime (Minutes)</th>\n",
       "      <th>Rating</th>\n",
       "      <th>Votes</th>\n",
       "      <th>Revenue (Millions)</th>\n",
       "      <th>Metascore</th>\n",
       "      <th>Rating_cat</th>\n",
       "    </tr>\n",
       "  </thead>\n",
       "  <tbody>\n",
       "    <tr>\n",
       "      <th>0</th>\n",
       "      <td>1</td>\n",
       "      <td>Guardians of the Galaxy</td>\n",
       "      <td>Action,Adventure,Sci-Fi</td>\n",
       "      <td>A group of intergalactic criminals are forced ...</td>\n",
       "      <td>James Gunn</td>\n",
       "      <td>Chris Pratt, Vin Diesel, Bradley Cooper, Zoe S...</td>\n",
       "      <td>2014</td>\n",
       "      <td>121</td>\n",
       "      <td>8.1</td>\n",
       "      <td>757074</td>\n",
       "      <td>333.13</td>\n",
       "      <td>76.0</td>\n",
       "      <td>Excellent</td>\n",
       "    </tr>\n",
       "    <tr>\n",
       "      <th>1</th>\n",
       "      <td>2</td>\n",
       "      <td>Prometheus</td>\n",
       "      <td>Adventure,Mystery,Sci-Fi</td>\n",
       "      <td>Following clues to the origin of mankind, a te...</td>\n",
       "      <td>Ridley Scott</td>\n",
       "      <td>Noomi Rapace, Logan Marshall-Green, Michael Fa...</td>\n",
       "      <td>2012</td>\n",
       "      <td>124</td>\n",
       "      <td>7.0</td>\n",
       "      <td>485820</td>\n",
       "      <td>126.46</td>\n",
       "      <td>65.0</td>\n",
       "      <td>Excellent</td>\n",
       "    </tr>\n",
       "    <tr>\n",
       "      <th>2</th>\n",
       "      <td>3</td>\n",
       "      <td>Split</td>\n",
       "      <td>Horror,Thriller</td>\n",
       "      <td>Three girls are kidnapped by a man with a diag...</td>\n",
       "      <td>M. Night Shyamalan</td>\n",
       "      <td>James McAvoy, Anya Taylor-Joy, Haley Lu Richar...</td>\n",
       "      <td>2016</td>\n",
       "      <td>117</td>\n",
       "      <td>7.3</td>\n",
       "      <td>157606</td>\n",
       "      <td>138.12</td>\n",
       "      <td>62.0</td>\n",
       "      <td>Excellent</td>\n",
       "    </tr>\n",
       "    <tr>\n",
       "      <th>3</th>\n",
       "      <td>4</td>\n",
       "      <td>Sing</td>\n",
       "      <td>Animation,Comedy,Family</td>\n",
       "      <td>In a city of humanoid animals, a hustling thea...</td>\n",
       "      <td>Christophe Lourdelet</td>\n",
       "      <td>Matthew McConaughey,Reese Witherspoon, Seth Ma...</td>\n",
       "      <td>2016</td>\n",
       "      <td>108</td>\n",
       "      <td>7.2</td>\n",
       "      <td>60545</td>\n",
       "      <td>270.32</td>\n",
       "      <td>59.0</td>\n",
       "      <td>Excellent</td>\n",
       "    </tr>\n",
       "    <tr>\n",
       "      <th>4</th>\n",
       "      <td>5</td>\n",
       "      <td>Suicide Squad</td>\n",
       "      <td>Action,Adventure,Fantasy</td>\n",
       "      <td>A secret government agency recruits some of th...</td>\n",
       "      <td>David Ayer</td>\n",
       "      <td>Will Smith, Jared Leto, Margot Robbie, Viola D...</td>\n",
       "      <td>2016</td>\n",
       "      <td>123</td>\n",
       "      <td>6.2</td>\n",
       "      <td>393727</td>\n",
       "      <td>325.02</td>\n",
       "      <td>40.0</td>\n",
       "      <td>Good</td>\n",
       "    </tr>\n",
       "  </tbody>\n",
       "</table>\n",
       "</div>"
      ],
      "text/plain": [
       "   Rank                    Title                     Genre  \\\n",
       "0     1  Guardians of the Galaxy   Action,Adventure,Sci-Fi   \n",
       "1     2               Prometheus  Adventure,Mystery,Sci-Fi   \n",
       "2     3                    Split           Horror,Thriller   \n",
       "3     4                     Sing   Animation,Comedy,Family   \n",
       "4     5            Suicide Squad  Action,Adventure,Fantasy   \n",
       "\n",
       "                                         Description              Director  \\\n",
       "0  A group of intergalactic criminals are forced ...            James Gunn   \n",
       "1  Following clues to the origin of mankind, a te...          Ridley Scott   \n",
       "2  Three girls are kidnapped by a man with a diag...    M. Night Shyamalan   \n",
       "3  In a city of humanoid animals, a hustling thea...  Christophe Lourdelet   \n",
       "4  A secret government agency recruits some of th...            David Ayer   \n",
       "\n",
       "                                              Actors  Year  Runtime (Minutes)  \\\n",
       "0  Chris Pratt, Vin Diesel, Bradley Cooper, Zoe S...  2014                121   \n",
       "1  Noomi Rapace, Logan Marshall-Green, Michael Fa...  2012                124   \n",
       "2  James McAvoy, Anya Taylor-Joy, Haley Lu Richar...  2016                117   \n",
       "3  Matthew McConaughey,Reese Witherspoon, Seth Ma...  2016                108   \n",
       "4  Will Smith, Jared Leto, Margot Robbie, Viola D...  2016                123   \n",
       "\n",
       "   Rating   Votes  Revenue (Millions)  Metascore Rating_cat  \n",
       "0     8.1  757074              333.13       76.0  Excellent  \n",
       "1     7.0  485820              126.46       65.0  Excellent  \n",
       "2     7.3  157606              138.12       62.0  Excellent  \n",
       "3     7.2   60545              270.32       59.0  Excellent  \n",
       "4     6.2  393727              325.02       40.0       Good  "
      ]
     },
     "execution_count": 50,
     "metadata": {},
     "output_type": "execute_result"
    }
   ],
   "source": [
    "imdb_data.head()"
   ]
  },
  {
   "cell_type": "markdown",
   "id": "6bf7781c-fa47-44a6-ba4f-93df30a7d285",
   "metadata": {},
   "source": [
    "#### Directors with most excellent rated movies"
   ]
  },
  {
   "cell_type": "code",
   "execution_count": 51,
   "id": "6aa294f7-721c-48ea-a850-6ce8befaec48",
   "metadata": {},
   "outputs": [
    {
     "data": {
      "text/plain": [
       "Director\n",
       "Martin Scorsese      5\n",
       "David Fincher        5\n",
       "Danny Boyle          5\n",
       "Christopher Nolan    5\n",
       "David Yates          5\n",
       "Guy Ritchie          4\n",
       "Denis Villeneuve     4\n",
       "J.J. Abrams          4\n",
       "Jon Favreau          4\n",
       "Matthew Vaughn       4\n",
       "Name: count, dtype: int64"
      ]
     },
     "execution_count": 51,
     "metadata": {},
     "output_type": "execute_result"
    }
   ],
   "source": [
    "excellent_directors = imdb_data[imdb_data['Rating_cat'] == 'Excellent']['Director'].value_counts().head(10)\n",
    "excellent_directors"
   ]
  },
  {
   "cell_type": "markdown",
   "id": "430f7baf-75a6-4eea-9cc2-a2ff07862160",
   "metadata": {},
   "source": [
    "#### Total Number of Action Movies"
   ]
  },
  {
   "cell_type": "code",
   "execution_count": 52,
   "id": "e94da86e-ba37-4a80-8593-fa1ce989abd6",
   "metadata": {},
   "outputs": [
    {
     "data": {
      "text/plain": [
       "277"
      ]
     },
     "execution_count": 52,
     "metadata": {},
     "output_type": "execute_result"
    }
   ],
   "source": [
    "len(imdb_data[imdb_data.Genre.str.contains('Action',case=False)])"
   ]
  },
  {
   "cell_type": "markdown",
   "id": "184bee2c-46fb-494f-9fa8-2e9d9d31da06",
   "metadata": {},
   "source": [
    "Hence, total 277 action movies were released in time span of 2006 to 2016"
   ]
  },
  {
   "cell_type": "markdown",
   "id": "1cb85697-946f-422d-8602-c592f17fce64",
   "metadata": {},
   "source": [
    "#### Finding unique values from genre"
   ]
  },
  {
   "cell_type": "code",
   "execution_count": 53,
   "id": "45885b05-14c1-4525-adfb-eab98a67daed",
   "metadata": {},
   "outputs": [
    {
     "data": {
      "text/plain": [
       "0       Action,Adventure,Sci-Fi\n",
       "1      Adventure,Mystery,Sci-Fi\n",
       "2               Horror,Thriller\n",
       "3       Animation,Comedy,Family\n",
       "4      Action,Adventure,Fantasy\n",
       "                 ...           \n",
       "993     Action,Adventure,Horror\n",
       "994                      Comedy\n",
       "996                      Horror\n",
       "997         Drama,Music,Romance\n",
       "999       Comedy,Family,Fantasy\n",
       "Name: Genre, Length: 838, dtype: object"
      ]
     },
     "execution_count": 53,
     "metadata": {},
     "output_type": "execute_result"
    }
   ],
   "source": [
    "imdb_data.Genre"
   ]
  },
  {
   "cell_type": "code",
   "execution_count": 54,
   "id": "83acd8df-c73d-4ba2-8440-bf7ff5e2b7a4",
   "metadata": {},
   "outputs": [
    {
     "data": {
      "text/plain": [
       "0         Action\n",
       "0      Adventure\n",
       "0         Sci-Fi\n",
       "1      Adventure\n",
       "1        Mystery\n",
       "         ...    \n",
       "997        Music\n",
       "997      Romance\n",
       "999       Comedy\n",
       "999       Family\n",
       "999      Fantasy\n",
       "Name: Genre, Length: 2190, dtype: object"
      ]
     },
     "execution_count": 54,
     "metadata": {},
     "output_type": "execute_result"
    }
   ],
   "source": [
    "all_genre=imdb_data.Genre.str.split(',').explode()\n",
    "all_genre"
   ]
  },
  {
   "cell_type": "code",
   "execution_count": 55,
   "id": "c55c30bb-939d-471c-8190-b027c0d64c0e",
   "metadata": {},
   "outputs": [
    {
     "data": {
      "text/plain": [
       "array(['Action', 'Adventure', 'Sci-Fi', 'Mystery', 'Horror', 'Thriller',\n",
       "       'Animation', 'Comedy', 'Family', 'Fantasy', 'Drama', 'Music',\n",
       "       'Biography', 'Romance', 'History', 'Western', 'Crime', 'War',\n",
       "       'Musical', 'Sport'], dtype=object)"
      ]
     },
     "execution_count": 55,
     "metadata": {},
     "output_type": "execute_result"
    }
   ],
   "source": [
    "all_genre.unique()"
   ]
  },
  {
   "cell_type": "markdown",
   "id": "494cd1c5-e42b-4ab2-a135-c48ae5078b24",
   "metadata": {},
   "source": [
    "#### Most popular genre"
   ]
  },
  {
   "cell_type": "code",
   "execution_count": 56,
   "id": "862ac4be-292f-40a6-a409-446f714c3033",
   "metadata": {},
   "outputs": [
    {
     "data": {
      "text/html": [
       "<div>\n",
       "<style scoped>\n",
       "    .dataframe tbody tr th:only-of-type {\n",
       "        vertical-align: middle;\n",
       "    }\n",
       "\n",
       "    .dataframe tbody tr th {\n",
       "        vertical-align: top;\n",
       "    }\n",
       "\n",
       "    .dataframe thead th {\n",
       "        text-align: right;\n",
       "    }\n",
       "</style>\n",
       "<table border=\"1\" class=\"dataframe\">\n",
       "  <thead>\n",
       "    <tr style=\"text-align: right;\">\n",
       "      <th></th>\n",
       "      <th>Genre</th>\n",
       "      <th>count</th>\n",
       "    </tr>\n",
       "  </thead>\n",
       "  <tbody>\n",
       "    <tr>\n",
       "      <th>0</th>\n",
       "      <td>Drama</td>\n",
       "      <td>419</td>\n",
       "    </tr>\n",
       "    <tr>\n",
       "      <th>1</th>\n",
       "      <td>Action</td>\n",
       "      <td>277</td>\n",
       "    </tr>\n",
       "    <tr>\n",
       "      <th>2</th>\n",
       "      <td>Comedy</td>\n",
       "      <td>250</td>\n",
       "    </tr>\n",
       "    <tr>\n",
       "      <th>3</th>\n",
       "      <td>Adventure</td>\n",
       "      <td>244</td>\n",
       "    </tr>\n",
       "    <tr>\n",
       "      <th>4</th>\n",
       "      <td>Thriller</td>\n",
       "      <td>148</td>\n",
       "    </tr>\n",
       "    <tr>\n",
       "      <th>5</th>\n",
       "      <td>Crime</td>\n",
       "      <td>126</td>\n",
       "    </tr>\n",
       "    <tr>\n",
       "      <th>6</th>\n",
       "      <td>Romance</td>\n",
       "      <td>120</td>\n",
       "    </tr>\n",
       "    <tr>\n",
       "      <th>7</th>\n",
       "      <td>Sci-Fi</td>\n",
       "      <td>107</td>\n",
       "    </tr>\n",
       "    <tr>\n",
       "      <th>8</th>\n",
       "      <td>Fantasy</td>\n",
       "      <td>92</td>\n",
       "    </tr>\n",
       "    <tr>\n",
       "      <th>9</th>\n",
       "      <td>Horror</td>\n",
       "      <td>87</td>\n",
       "    </tr>\n",
       "  </tbody>\n",
       "</table>\n",
       "</div>"
      ],
      "text/plain": [
       "       Genre  count\n",
       "0      Drama    419\n",
       "1     Action    277\n",
       "2     Comedy    250\n",
       "3  Adventure    244\n",
       "4   Thriller    148\n",
       "5      Crime    126\n",
       "6    Romance    120\n",
       "7     Sci-Fi    107\n",
       "8    Fantasy     92\n",
       "9     Horror     87"
      ]
     },
     "execution_count": 56,
     "metadata": {},
     "output_type": "execute_result"
    }
   ],
   "source": [
    "Genre_counts=all_genre.value_counts().reset_index()\n",
    "Genre_counts.head(10)"
   ]
  },
  {
   "cell_type": "code",
   "execution_count": 57,
   "id": "562451ed-184b-4427-a4d2-635fd4688291",
   "metadata": {},
   "outputs": [
    {
     "data": {
      "image/png": "[encoded data removed]",
      "text/plain": [
       "<Figure size 640x480 with 1 Axes>"
      ]
     },
     "metadata": {},
     "output_type": "display_data"
    }
   ],
   "source": [
    "sns.barplot(x='count',y='Genre',data=Genre_counts.head(10),palette='husl')\n",
    "plt.title('Top 10 Popular Genre by Movie Count')\n",
    "plt.show()"
   ]
  },
  {
   "cell_type": "markdown",
   "id": "4ea27996-c740-4804-8961-40238b84efaa",
   "metadata": {},
   "source": [
    "So most of the movies released were of Drama Genre . We can say that Drama Genre was most popular Genre at that time."
   ]
  },
  {
   "cell_type": "markdown",
   "id": "3d3d6a2d-d21e-45ff-99c3-808abab21b67",
   "metadata": {},
   "source": [
    "#### Top Actors by frequency"
   ]
  },
  {
   "cell_type": "code",
   "execution_count": 58,
   "id": "6f8191c1-6c3e-4931-93cc-35c9e7c96187",
   "metadata": {},
   "outputs": [
    {
     "data": {
      "text/plain": [
       "Actors\n",
       "Mark Wahlberg          11\n",
       "Christian Bale         11\n",
       "Jake Gyllenhaal         9\n",
       " Woody Harrelson        9\n",
       " Rose Byrne             9\n",
       "Brad Pitt               9\n",
       "Leonardo DiCaprio       9\n",
       " Scarlett Johansson     8\n",
       "Robert Downey Jr.       8\n",
       "Adam Sandler            8\n",
       "Name: count, dtype: int64"
      ]
     },
     "execution_count": 58,
     "metadata": {},
     "output_type": "execute_result"
    }
   ],
   "source": [
    "actors_split=imdb_data['Actors'].str.split(',').explode()\n",
    "top_actors=actors_split.value_counts().head(10)\n",
    "top_actors"
   ]
  },
  {
   "cell_type": "code",
   "execution_count": 64,
   "id": "636a80d2-e2d7-4b4e-913d-c99d8840a3b3",
   "metadata": {},
   "outputs": [
    {
     "data": {
      "image/png": "[encoded data removed]",
      "text/plain": [
       "<Figure size 640x480 with 1 Axes>"
      ]
     },
     "metadata": {},
     "output_type": "display_data"
    }
   ],
   "source": [
    "sns.barplot(x=top_actors.values,y=top_actors.index,palette='husl')\n",
    "plt.xlabel('Count of movies')\n",
    "plt.title('Top Actors by Number of Movies')\n",
    "plt.show()"
   ]
  },
  {
   "cell_type": "markdown",
   "id": "e92c30bd-ed12-4a52-a3a1-2d6ec9836cdc",
   "metadata": {},
   "source": [
    "Mark Wahlberg and Christian Bale were the most liked actors by directors that is the reason they appear in most of the movies."
   ]
  },
  {
   "cell_type": "markdown",
   "id": "b04c23ff-7c02-45ae-8f4e-ace3dda08410",
   "metadata": {},
   "source": [
    "#### Average Revenue and Rating per Genre"
   ]
  },
  {
   "cell_type": "code",
   "execution_count": 60,
   "id": "4da8cf9a-7ecc-4881-a195-d5a103574e3e",
   "metadata": {},
   "outputs": [
    {
     "data": {
      "text/html": [
       "<div>\n",
       "<style scoped>\n",
       "    .dataframe tbody tr th:only-of-type {\n",
       "        vertical-align: middle;\n",
       "    }\n",
       "\n",
       "    .dataframe tbody tr th {\n",
       "        vertical-align: top;\n",
       "    }\n",
       "\n",
       "    .dataframe thead th {\n",
       "        text-align: right;\n",
       "    }\n",
       "</style>\n",
       "<table border=\"1\" class=\"dataframe\">\n",
       "  <thead>\n",
       "    <tr style=\"text-align: right;\">\n",
       "      <th></th>\n",
       "      <th>Genre</th>\n",
       "      <th>Revenue (Millions)</th>\n",
       "      <th>Rating</th>\n",
       "    </tr>\n",
       "  </thead>\n",
       "  <tbody>\n",
       "    <tr>\n",
       "      <th>0</th>\n",
       "      <td>Action</td>\n",
       "      <td>333.13</td>\n",
       "      <td>8.1</td>\n",
       "    </tr>\n",
       "    <tr>\n",
       "      <th>0</th>\n",
       "      <td>Adventure</td>\n",
       "      <td>333.13</td>\n",
       "      <td>8.1</td>\n",
       "    </tr>\n",
       "    <tr>\n",
       "      <th>0</th>\n",
       "      <td>Sci-Fi</td>\n",
       "      <td>333.13</td>\n",
       "      <td>8.1</td>\n",
       "    </tr>\n",
       "    <tr>\n",
       "      <th>1</th>\n",
       "      <td>Adventure</td>\n",
       "      <td>126.46</td>\n",
       "      <td>7.0</td>\n",
       "    </tr>\n",
       "    <tr>\n",
       "      <th>1</th>\n",
       "      <td>Mystery</td>\n",
       "      <td>126.46</td>\n",
       "      <td>7.0</td>\n",
       "    </tr>\n",
       "    <tr>\n",
       "      <th>...</th>\n",
       "      <td>...</td>\n",
       "      <td>...</td>\n",
       "      <td>...</td>\n",
       "    </tr>\n",
       "    <tr>\n",
       "      <th>997</th>\n",
       "      <td>Music</td>\n",
       "      <td>58.01</td>\n",
       "      <td>6.2</td>\n",
       "    </tr>\n",
       "    <tr>\n",
       "      <th>997</th>\n",
       "      <td>Romance</td>\n",
       "      <td>58.01</td>\n",
       "      <td>6.2</td>\n",
       "    </tr>\n",
       "    <tr>\n",
       "      <th>999</th>\n",
       "      <td>Comedy</td>\n",
       "      <td>19.64</td>\n",
       "      <td>5.3</td>\n",
       "    </tr>\n",
       "    <tr>\n",
       "      <th>999</th>\n",
       "      <td>Family</td>\n",
       "      <td>19.64</td>\n",
       "      <td>5.3</td>\n",
       "    </tr>\n",
       "    <tr>\n",
       "      <th>999</th>\n",
       "      <td>Fantasy</td>\n",
       "      <td>19.64</td>\n",
       "      <td>5.3</td>\n",
       "    </tr>\n",
       "  </tbody>\n",
       "</table>\n",
       "<p>2190 rows × 3 columns</p>\n",
       "</div>"
      ],
      "text/plain": [
       "         Genre  Revenue (Millions)  Rating\n",
       "0       Action              333.13     8.1\n",
       "0    Adventure              333.13     8.1\n",
       "0       Sci-Fi              333.13     8.1\n",
       "1    Adventure              126.46     7.0\n",
       "1      Mystery              126.46     7.0\n",
       "..         ...                 ...     ...\n",
       "997      Music               58.01     6.2\n",
       "997    Romance               58.01     6.2\n",
       "999     Comedy               19.64     5.3\n",
       "999     Family               19.64     5.3\n",
       "999    Fantasy               19.64     5.3\n",
       "\n",
       "[2190 rows x 3 columns]"
      ]
     },
     "execution_count": 60,
     "metadata": {},
     "output_type": "execute_result"
    }
   ],
   "source": [
    "genre_split=imdb_data[['Genre','Revenue (Millions)','Rating']].copy()\n",
    "genre_split['Genre']=genre_split['Genre'].str.split(',')\n",
    "genre_exploded=genre_split.explode('Genre')\n",
    "genre_exploded['Genre']=genre_exploded['Genre'].str.strip()\n",
    "genre_exploded"
   ]
  },
  {
   "cell_type": "code",
   "execution_count": 61,
   "id": "6f496cb2-0967-466c-9719-131e78cc70e6",
   "metadata": {},
   "outputs": [
    {
     "data": {
      "text/html": [
       "<div>\n",
       "<style scoped>\n",
       "    .dataframe tbody tr th:only-of-type {\n",
       "        vertical-align: middle;\n",
       "    }\n",
       "\n",
       "    .dataframe tbody tr th {\n",
       "        vertical-align: top;\n",
       "    }\n",
       "\n",
       "    .dataframe thead th {\n",
       "        text-align: right;\n",
       "    }\n",
       "</style>\n",
       "<table border=\"1\" class=\"dataframe\">\n",
       "  <thead>\n",
       "    <tr style=\"text-align: right;\">\n",
       "      <th></th>\n",
       "      <th>Genre</th>\n",
       "      <th>Revenue (Millions)</th>\n",
       "    </tr>\n",
       "  </thead>\n",
       "  <tbody>\n",
       "    <tr>\n",
       "      <th>0</th>\n",
       "      <td>Animation</td>\n",
       "      <td>192.359556</td>\n",
       "    </tr>\n",
       "    <tr>\n",
       "      <th>1</th>\n",
       "      <td>Adventure</td>\n",
       "      <td>157.160041</td>\n",
       "    </tr>\n",
       "    <tr>\n",
       "      <th>2</th>\n",
       "      <td>Sci-Fi</td>\n",
       "      <td>137.454860</td>\n",
       "    </tr>\n",
       "    <tr>\n",
       "      <th>3</th>\n",
       "      <td>Fantasy</td>\n",
       "      <td>133.052065</td>\n",
       "    </tr>\n",
       "    <tr>\n",
       "      <th>4</th>\n",
       "      <td>Action</td>\n",
       "      <td>127.089928</td>\n",
       "    </tr>\n",
       "    <tr>\n",
       "      <th>5</th>\n",
       "      <td>Family</td>\n",
       "      <td>124.141667</td>\n",
       "    </tr>\n",
       "    <tr>\n",
       "      <th>6</th>\n",
       "      <td>Western</td>\n",
       "      <td>117.457500</td>\n",
       "    </tr>\n",
       "    <tr>\n",
       "      <th>7</th>\n",
       "      <td>Musical</td>\n",
       "      <td>81.642000</td>\n",
       "    </tr>\n",
       "    <tr>\n",
       "      <th>8</th>\n",
       "      <td>Comedy</td>\n",
       "      <td>76.952520</td>\n",
       "    </tr>\n",
       "    <tr>\n",
       "      <th>9</th>\n",
       "      <td>Thriller</td>\n",
       "      <td>70.749324</td>\n",
       "    </tr>\n",
       "    <tr>\n",
       "      <th>10</th>\n",
       "      <td>Sport</td>\n",
       "      <td>67.076667</td>\n",
       "    </tr>\n",
       "    <tr>\n",
       "      <th>11</th>\n",
       "      <td>Crime</td>\n",
       "      <td>63.675079</td>\n",
       "    </tr>\n",
       "    <tr>\n",
       "      <th>12</th>\n",
       "      <td>Biography</td>\n",
       "      <td>59.034030</td>\n",
       "    </tr>\n",
       "    <tr>\n",
       "      <th>13</th>\n",
       "      <td>Mystery</td>\n",
       "      <td>54.464070</td>\n",
       "    </tr>\n",
       "    <tr>\n",
       "      <th>14</th>\n",
       "      <td>War</td>\n",
       "      <td>53.433000</td>\n",
       "    </tr>\n",
       "    <tr>\n",
       "      <th>15</th>\n",
       "      <td>History</td>\n",
       "      <td>52.958000</td>\n",
       "    </tr>\n",
       "    <tr>\n",
       "      <th>16</th>\n",
       "      <td>Drama</td>\n",
       "      <td>50.724010</td>\n",
       "    </tr>\n",
       "    <tr>\n",
       "      <th>17</th>\n",
       "      <td>Music</td>\n",
       "      <td>47.070000</td>\n",
       "    </tr>\n",
       "    <tr>\n",
       "      <th>18</th>\n",
       "      <td>Romance</td>\n",
       "      <td>42.947583</td>\n",
       "    </tr>\n",
       "    <tr>\n",
       "      <th>19</th>\n",
       "      <td>Horror</td>\n",
       "      <td>37.406897</td>\n",
       "    </tr>\n",
       "  </tbody>\n",
       "</table>\n",
       "</div>"
      ],
      "text/plain": [
       "        Genre  Revenue (Millions)\n",
       "0   Animation          192.359556\n",
       "1   Adventure          157.160041\n",
       "2      Sci-Fi          137.454860\n",
       "3     Fantasy          133.052065\n",
       "4      Action          127.089928\n",
       "5      Family          124.141667\n",
       "6     Western          117.457500\n",
       "7     Musical           81.642000\n",
       "8      Comedy           76.952520\n",
       "9    Thriller           70.749324\n",
       "10      Sport           67.076667\n",
       "11      Crime           63.675079\n",
       "12  Biography           59.034030\n",
       "13    Mystery           54.464070\n",
       "14        War           53.433000\n",
       "15    History           52.958000\n",
       "16      Drama           50.724010\n",
       "17      Music           47.070000\n",
       "18    Romance           42.947583\n",
       "19     Horror           37.406897"
      ]
     },
     "execution_count": 61,
     "metadata": {},
     "output_type": "execute_result"
    }
   ],
   "source": [
    "genre_avg_revenue=genre_exploded.groupby('Genre')['Revenue (Millions)'].mean().sort_values(ascending=False).reset_index()\n",
    "genre_avg_rating =genre_exploded.groupby('Genre')['Rating'].mean().sort_values(ascending=False).reset_index()\n",
    "genre_avg_revenue"
   ]
  },
  {
   "cell_type": "code",
   "execution_count": 62,
   "id": "0b8df2a0-5e84-444c-8cc9-40ae3b44d0b4",
   "metadata": {},
   "outputs": [
    {
     "data": {
      "image/png": "[encoded data removed]",
      "text/plain": [
       "<Figure size 640x480 with 1 Axes>"
      ]
     },
     "metadata": {},
     "output_type": "display_data"
    }
   ],
   "source": [
    "sns.barplot(data=genre_avg_revenue, x='Revenue (Millions)', y='Genre', palette='husl')\n",
    "plt.title('Average Revenue per Genre')\n",
    "plt.show()\n"
   ]
  },
  {
   "cell_type": "markdown",
   "id": "86c7c347-19b8-48d5-9796-7ae98f4452c6",
   "metadata": {},
   "source": [
    "Animation Genre generated the highest revenue . Reason of this genre generating highest revenue can be that may be many movies were released of this genre so the revenue will also be high or may be this genre was liked and watched by many people."
   ]
  },
  {
   "cell_type": "code",
   "execution_count": 63,
   "id": "733a5848-6c28-4dc6-817a-c66d18302059",
   "metadata": {},
   "outputs": [
    {
     "data": {
      "image/png": "[encoded data removed]",
      "text/plain": [
       "<Figure size 640x480 with 1 Axes>"
      ]
     },
     "metadata": {},
     "output_type": "display_data"
    }
   ],
   "source": [
    "sns.barplot(data=genre_avg_rating, x='Rating', y='Genre', palette='mako')\n",
    "plt.title('Average Rating per Genre')\n",
    "plt.show()"
   ]
  },
  {
   "cell_type": "markdown",
   "id": "37baa025-c84d-4d0c-ab99-cde5652422f1",
   "metadata": {},
   "source": [
    "The Genre 'War' recieved highest rating by public."
   ]
  },
  {
   "cell_type": "markdown",
   "id": "388a4ccc-15a5-45db-8be4-8be12ba15f71",
   "metadata": {},
   "source": [
    "### Conclusion"
   ]
  },
  {
   "cell_type": "markdown",
   "id": "86d2d68f-24e7-42dd-bbea-0b6aa0a02df0",
   "metadata": {},
   "source": [
    "This project provided a comprehensive analysis of IMDB movie data from 2006 to 2016. Through various visualizations and aggregations we uncovered several insights :\n",
    "\n",
    "1. The most frequent actor appearing in top movies was 'Mark Wahlberg' indicating that he is the best actor of that time.\n",
    "2. The year with highest average rating was 2006 indicating a peak in critically acclaimed releases.\n",
    "3. The highest average revenue was recorded in 2009 suggesting a financially strong box office year.\n",
    "4. The most popular movie in terms of revenue was 'Star Wars: Episode VII - The Force Awakens' while the movie with the lowest revenue was 'A Kind of       Murder'.\n",
    "5. Genres like Animation, Adventure, Sci-fi had the highest average revenues, showing their commercial success.\n",
    "6. A few films had runtimes above 180 minutes, showing that even lengthy movies can hold audience attention.\n",
    "7. 'Drama' was among the most dominant genres in terms of volume.\n",
    "\n",
    "Overall, this EDA demonstrates how runtime, genre, director, and release year can influence a movie’s commercial and critical success. These insights could support strategic decisions in filmmaking, marketing, and content curation."
   ]
  }
 ],
 "metadata": {
  "kernelspec": {
   "display_name": "Python (newenv)",
   "language": "python",
   "name": "newenv"
  },
  "language_info": {
   "codemirror_mode": {
    "name": "ipython",
    "version": 3
   },
   "file_extension": ".py",
   "mimetype": "text/x-python",
   "name": "python",
   "nbconvert_exporter": "python",
   "pygments_lexer": "ipython3",
   "version": "3.9.19"
  }
 },
 "nbformat": 4,
 "nbformat_minor": 5
}
